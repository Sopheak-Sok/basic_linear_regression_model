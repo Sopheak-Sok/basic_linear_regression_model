{
  "cells": [
    {
      "cell_type": "code",
      "source": [
        "from google.colab import drive\n",
        "drive.mount('/content/drive')"
      ],
      "metadata": {
        "colab": {
          "base_uri": "https://localhost:8080/"
        },
        "id": "ClwEJd8J38eL",
        "outputId": "370c67ca-ec79-4bb6-adeb-4f3acfee45a2"
      },
      "id": "ClwEJd8J38eL",
      "execution_count": null,
      "outputs": [
        {
          "output_type": "stream",
          "name": "stdout",
          "text": [
            "Drive already mounted at /content/drive; to attempt to forcibly remount, call drive.mount(\"/content/drive\", force_remount=True).\n"
          ]
        }
      ]
    },
    {
      "cell_type": "markdown",
      "source": [
        "# Practice"
      ],
      "metadata": {
        "id": "V0GSNZQy40-L"
      },
      "id": "V0GSNZQy40-L"
    },
    {
      "cell_type": "code",
      "execution_count": null,
      "id": "b5522f21",
      "metadata": {
        "id": "b5522f21"
      },
      "outputs": [],
      "source": [
        "\n",
        "import numpy as np\n",
        "import matplotlib.pyplot as plt"
      ]
    },
    {
      "cell_type": "code",
      "execution_count": null,
      "id": "c3c1a09e",
      "metadata": {
        "id": "c3c1a09e"
      },
      "outputs": [],
      "source": [
        "# prepare data\n",
        "x = np.array([90,130,210,300,350,420,480,530,640,710])\n",
        "y= np.array([7.1,10.9,19.2,28,32.8,39.9,46.1,51,62.2,68.9,])"
      ]
    },
    {
      "cell_type": "code",
      "execution_count": null,
      "id": "eb35654a",
      "metadata": {
        "colab": {
          "base_uri": "https://localhost:8080/",
          "height": 472
        },
        "id": "eb35654a",
        "outputId": "44aeb1f6-ea3e-4698-9145-eb9afc796ef9"
      },
      "outputs": [
        {
          "output_type": "display_data",
          "data": {
            "text/plain": [
              "<Figure size 640x480 with 1 Axes>"
            ],
            "image/png": "[encoded data removed]"
          },
          "metadata": {}
        }
      ],
      "source": [
        "plt.scatter(x,y)\n",
        "plt.title('Land price Vs Land sixe')\n",
        "plt.xlabel('Land sixe (m^2)')\n",
        "plt.ylabel('Land price (in 1000 USD)')\n",
        "plt.show()"
      ]
    },
    {
      "cell_type": "code",
      "execution_count": null,
      "id": "0a8e3f28",
      "metadata": {
        "colab": {
          "base_uri": "https://localhost:8080/"
        },
        "id": "0a8e3f28",
        "outputId": "ebf8dfef-717a-4c34-feae-301fc78144f7"
      },
      "outputs": [
        {
          "output_type": "stream",
          "name": "stdout",
          "text": [
            "[[1.         0.99997851]\n",
            " [0.99997851 1.        ]]\n"
          ]
        }
      ],
      "source": [
        "corr = np.corrcoef(x,y)\n",
        "print(corr)"
      ]
    },
    {
      "cell_type": "code",
      "execution_count": null,
      "id": "97e36616",
      "metadata": {
        "colab": {
          "base_uri": "https://localhost:8080/"
        },
        "id": "97e36616",
        "outputId": "0ceceb6f-73f4-47d2-98d8-d4d8e5dca730"
      },
      "outputs": [
        {
          "output_type": "stream",
          "name": "stdout",
          "text": [
            "5\n"
          ]
        }
      ],
      "source": [
        "def hyp(x,a,b):\n",
        "    \"\"\"\n",
        "    Hypothesis function\n",
        "    x= input feature, scaler or numpy array\n",
        "    a, b scaler\n",
        "    \"\"\"\n",
        "    y = a*x + b\n",
        "    return y\n",
        "print(hyp(2,1,3))"
      ]
    },
    {
      "cell_type": "code",
      "source": [
        "print(len(x))\n",
        "print(len(y))"
      ],
      "metadata": {
        "colab": {
          "base_uri": "https://localhost:8080/"
        },
        "id": "ySkfISeDue3F",
        "outputId": "0b8adad6-18d8-4db7-cd2f-c2bf118e481f"
      },
      "id": "ySkfISeDue3F",
      "execution_count": null,
      "outputs": [
        {
          "output_type": "stream",
          "name": "stdout",
          "text": [
            "10\n",
            "10\n"
          ]
        }
      ]
    },
    {
      "cell_type": "code",
      "source": [
        "print(x.shape)\n",
        "print(y.shape)"
      ],
      "metadata": {
        "colab": {
          "base_uri": "https://localhost:8080/"
        },
        "id": "nSsaUxuUu3Ct",
        "outputId": "9f381e4b-10c6-489b-8a10-e0cde776db26"
      },
      "id": "nSsaUxuUu3Ct",
      "execution_count": null,
      "outputs": [
        {
          "output_type": "stream",
          "name": "stdout",
          "text": [
            "(10,)\n",
            "(10,)\n"
          ]
        }
      ]
    },
    {
      "cell_type": "code",
      "source": [
        "a = np.array([1,2,3,4,5,6,7,8,9,10])\n",
        "b = np.array([1,1,1,1,1,1,1,1,1,1])"
      ],
      "metadata": {
        "colab": {
          "base_uri": "https://localhost:8080/"
        },
        "id": "ppxo2g2evKYL",
        "outputId": "a4e2f329-8127-4725-f902-b811118caffb"
      },
      "id": "ppxo2g2evKYL",
      "execution_count": null,
      "outputs": [
        {
          "output_type": "execute_result",
          "data": {
            "text/plain": [
              "(10,)"
            ]
          },
          "metadata": {},
          "execution_count": 22
        }
      ]
    },
    {
      "cell_type": "code",
      "source": [
        "print(x)"
      ],
      "metadata": {
        "colab": {
          "base_uri": "https://localhost:8080/"
        },
        "id": "N1HiPxfPv_80",
        "outputId": "988070d5-b64c-4b42-cdf6-85051c7e4ed1"
      },
      "id": "N1HiPxfPv_80",
      "execution_count": null,
      "outputs": [
        {
          "output_type": "stream",
          "name": "stdout",
          "text": [
            "[ 90 130 210 300 350 420 480 530 640 710]\n"
          ]
        }
      ]
    },
    {
      "cell_type": "code",
      "source": [
        "# print(hyp(x,[1,2,3,4,5,6,7,8,9,10],y))\n",
        "print(hyp(x,1,1))"
      ],
      "metadata": {
        "colab": {
          "base_uri": "https://localhost:8080/"
        },
        "id": "2YUsDVc4usAH",
        "outputId": "b3db6edf-322e-480a-f9f5-d8683a1517fc"
      },
      "id": "2YUsDVc4usAH",
      "execution_count": null,
      "outputs": [
        {
          "output_type": "stream",
          "name": "stdout",
          "text": [
            "[ 91 131 211 301 351 421 481 531 641 711]\n"
          ]
        }
      ]
    },
    {
      "cell_type": "code",
      "execution_count": null,
      "id": "7c7377d3",
      "metadata": {
        "id": "7c7377d3"
      },
      "outputs": [],
      "source": [
        "def cos_func(x,a,b,y):\n",
        "    \"\"\"\n",
        "    cost function: mean squre error\n",
        "    y: target feature\n",
        "    \"\"\"\n",
        "    j= ((hyp(x,a,b)-y)**2).mean()\n",
        "    return j"
      ]
    },
    {
      "cell_type": "code",
      "source": [
        "print(cos_func(x,a,b,y))"
      ],
      "metadata": {
        "colab": {
          "base_uri": "https://localhost:8080/"
        },
        "id": "gQFoz1GZvATg",
        "outputId": "b81baa3a-f102-4a50-f810-1c8c1aa4cb5e"
      },
      "id": "gQFoz1GZvATg",
      "execution_count": null,
      "outputs": [
        {
          "output_type": "stream",
          "name": "stdout",
          "text": [
            "1733.1970000000001\n"
          ]
        }
      ]
    },
    {
      "cell_type": "code",
      "execution_count": null,
      "id": "e5fa841f",
      "metadata": {
        "id": "e5fa841f"
      },
      "outputs": [],
      "source": [
        "def grad_a(x,a,b,y):\n",
        "    grad= ((hyp(x,a,b)-y)*x).mean()\n",
        "    grad= 2*grad\n",
        "    return grad"
      ]
    },
    {
      "cell_type": "code",
      "execution_count": null,
      "id": "c4f12402",
      "metadata": {
        "id": "c4f12402"
      },
      "outputs": [],
      "source": [
        "def grad_b(x,a,b,y):\n",
        "    grad= ((hyp(x,a,b)-y)).mean()\n",
        "    grad= 2*grad\n",
        "    return grad"
      ]
    },
    {
      "cell_type": "code",
      "execution_count": null,
      "id": "3213c672",
      "metadata": {
        "colab": {
          "base_uri": "https://localhost:8080/"
        },
        "id": "3213c672",
        "outputId": "4b7f9e0a-88e3-4e9e-892e-9209dc1dca22"
      },
      "outputs": [
        {
          "output_type": "stream",
          "name": "stdout",
          "text": [
            "----------------------------------------------------------------------------------------------------\n",
            "x: [ 90 130 210 300 350 420 480 530 640 710]\n",
            "y: [ 7.1 10.9 19.2 28.  32.8 39.9 46.1 51.  62.2 68.9]\n",
            "a: 0\n",
            "b: 0\n",
            "grad_a: -36122.2\n",
            "grad_b: -73.22\n",
            "Iter0: mse = 1733.1970\n",
            "----------------------------------------------------------------------------------------------------\n",
            "x: [ 90 130 210 300 350 420 480 530 640 710]\n",
            "y: [ 7.1 10.9 19.2 28.  32.8 39.9 46.1 51.  62.2 68.9]\n",
            "a: 0.03612219999999999\n",
            "b: 4.5333661600000006e-05\n",
            "grad_a: -22518.544482413246\n",
            "grad_b: -45.33357093267681\n",
            "Iter1: mse = 674.0780\n",
            "----------------------------------------------------------------------------------------------------\n",
            "x: [ 90 130 210 300 350 420 480 530 640 710]\n",
            "y: [ 7.1 10.9 19.2 28.  32.8 39.9 46.1 51.  62.2 68.9]\n",
            "a: 0.05864074448241324\n",
            "b: 7.328291619225379e-05\n",
            "grad_a: -14038.039053511873\n",
            "grad_b: -27.9491986937446\n",
            "Iter2: mse = 262.4764\n",
            "----------------------------------------------------------------------------------------------------\n",
            "x: [ 90 130 210 300 350 420 480 530 640 710]\n",
            "y: [ 7.1 10.9 19.2 28.  32.8 39.9 46.1 51.  62.2 68.9]\n",
            "a: 0.07267878353592512\n",
            "b: 9.039474873668721e-05\n",
            "grad_a: -8751.300335624575\n",
            "grad_b: -17.111798320768333\n",
            "Iter3: mse = 102.5172\n",
            "----------------------------------------------------------------------------------------------------\n",
            "x: [ 90 130 210 300 350 420 480 530 640 710]\n",
            "y: [ 7.1 10.9 19.2 28.  32.8 39.9 46.1 51.  62.2 68.9]\n",
            "a: 0.0814300838715497\n",
            "b: 0.00010075054319835337\n",
            "grad_a: -5455.552634555037\n",
            "grad_b: -10.355773750077244\n",
            "Iter4: mse = 40.3528\n",
            "----------------------------------------------------------------------------------------------------\n",
            "x: [ 90 130 210 300 350 420 480 530 640 710]\n",
            "y: [ 7.1 10.9 19.2 28.  32.8 39.9 46.1 51.  62.2 68.9]\n",
            "a: 0.08688563650610473\n",
            "b: 0.00010689463031455413\n",
            "grad_a: -3400.986769146358\n",
            "grad_b: -6.144074828026524\n",
            "Iter5: mse = 16.1941\n",
            "----------------------------------------------------------------------------------------------------\n",
            "x: [ 90 130 210 300 350 420 480 530 640 710]\n",
            "y: [ 7.1 10.9 19.2 28.  32.8 39.9 46.1 51.  62.2 68.9]\n",
            "a: 0.09028662327525108\n",
            "b: 0.00011041314335679966\n",
            "grad_a: -2120.172435593772\n",
            "grad_b: -3.518506005219453\n",
            "Iter6: mse = 6.8054\n",
            "----------------------------------------------------------------------------------------------------\n",
            "x: [ 90 130 210 300 350 420 480 530 640 710]\n",
            "y: [ 7.1 10.9 19.2 28.  32.8 39.9 46.1 51.  62.2 68.9]\n",
            "a: 0.09240679571084486\n",
            "b: 0.00011229487624174073\n",
            "grad_a: -1321.7140436513714\n",
            "grad_b: -1.8817291214752925\n",
            "Iter7: mse = 3.1567\n",
            "----------------------------------------------------------------------------------------------------\n",
            "x: [ 90 130 210 300 350 420 480 530 640 710]\n",
            "y: [ 7.1 10.9 19.2 28.  32.8 39.9 46.1 51.  62.2 68.9]\n",
            "a: 0.09372850975449623\n",
            "b: 0.00011315624212151716\n",
            "grad_a: -823.9558698378034\n",
            "grad_b: -0.8613641570446685\n",
            "Iter8: mse = 1.7387\n",
            "----------------------------------------------------------------------------------------------------\n",
            "x: [ 90 130 210 300 350 420 480 530 640 710]\n",
            "y: [ 7.1 10.9 19.2 28.  32.8 39.9 46.1 51.  62.2 68.9]\n",
            "a: 0.09455246562433403\n",
            "b: 0.00011338151234704704\n",
            "grad_a: -513.6539153482702\n",
            "grad_b: -0.22526977498942954\n",
            "Iter9: mse = 1.1877\n",
            "----------------------------------------------------------------------------------------------------\n",
            "x: [ 90 130 210 300 350 420 480 530 640 710]\n",
            "y: [ 7.1 10.9 19.2 28.  32.8 39.9 46.1 51.  62.2 68.9]\n",
            "a: 0.0950661195396823\n",
            "b: 0.0001132102412993876\n",
            "grad_a: -320.21198304936047\n",
            "grad_b: 0.17127070511733927\n",
            "Iter10: mse = 0.9735\n",
            "----------------------------------------------------------------------------------------------------\n",
            "x: [ 90 130 210 300 350 420 480 530 640 710]\n",
            "y: [ 7.1 10.9 19.2 28.  32.8 39.9 46.1 51.  62.2 68.9]\n",
            "a: 0.09538633152273167\n",
            "b: 0.00011279176694335615\n",
            "grad_a: -199.6204732951738\n",
            "grad_b: 0.4184735190827361\n",
            "Iter11: mse = 0.8903\n",
            "----------------------------------------------------------------------------------------------------\n",
            "x: [ 90 130 210 300 350 420 480 530 640 710]\n",
            "y: [ 7.1 10.9 19.2 28.  32.8 39.9 46.1 51.  62.2 68.9]\n",
            "a: 0.09558595199602685\n",
            "b: 0.00011221918641888954\n",
            "grad_a: -124.44384508437574\n",
            "grad_b: 0.5725793793055611\n",
            "Iter12: mse = 0.8579\n",
            "----------------------------------------------------------------------------------------------------\n",
            "x: [ 90 130 210 300 350 420 480 530 640 710]\n",
            "y: [ 7.1 10.9 19.2 28.  32.8 39.9 46.1 51.  62.2 68.9]\n",
            "a: 0.09571039584111123\n",
            "b: 0.00011155053639117883\n",
            "grad_a: -77.57880922342001\n",
            "grad_b: 0.6686486904106467\n",
            "Iter13: mse = 0.8454\n",
            "----------------------------------------------------------------------------------------------------\n",
            "x: [ 90 130 210 300 350 420 480 530 640 710]\n",
            "y: [ 7.1 10.9 19.2 28.  32.8 39.9 46.1 51.  62.2 68.9]\n",
            "a: 0.09578797465033465\n",
            "b: 0.0001108219968600477\n",
            "grad_a: -48.36319210239674\n",
            "grad_b: 0.7285380740520665\n",
            "Iter14: mse = 0.8405\n"
          ]
        }
      ],
      "source": [
        "# Training Data\n",
        "a, b = 0,0 # initialize a and b\n",
        "alpha = 0.000001 # Learning rate\n",
        "j_list = []\n",
        "for iter in range(15):\n",
        "    print(\"-\"*100)\n",
        "    print(f'x: {x}')\n",
        "    print(f'y: {y}')\n",
        "    print(f'a: {a}')\n",
        "    print(f'b: {b}')\n",
        "    j = cos_func(x,a,b,y)\n",
        "    # print(f'j: {j}')\n",
        "    print(f'grad_a: {grad_a(x,a,b,y)}')\n",
        "    print(f'grad_b: {grad_b(x,a,b,y)}')\n",
        "    j_list.append(j) # add j to j_list\n",
        "    a += -alpha*grad_a(x,a,b,y)\n",
        "    b += -alpha*grad_b(x,a,b,y)\n",
        "    print(f\"Iter{iter}: mse = {j:.4f}\")\n",
        "\n"
      ]
    },
    {
      "cell_type": "code",
      "execution_count": null,
      "id": "4817e986",
      "metadata": {
        "colab": {
          "base_uri": "https://localhost:8080/"
        },
        "id": "4817e986",
        "outputId": "a1e453cf-1518-47a0-a367-922f2b2774ca"
      },
      "outputs": [
        {
          "output_type": "stream",
          "name": "stdout",
          "text": [
            "a = 0.0958, b = 0.0001\n"
          ]
        }
      ],
      "source": [
        "# Convergent value of a and b\n",
        "print(f\"a = {a:.4f}, b = {b:.4f}\")"
      ]
    },
    {
      "cell_type": "code",
      "execution_count": null,
      "id": "19e6dbdf",
      "metadata": {
        "colab": {
          "base_uri": "https://localhost:8080/",
          "height": 430
        },
        "id": "19e6dbdf",
        "outputId": "9c7d0c3c-d510-45a1-dd85-a4579a7f1322"
      },
      "outputs": [
        {
          "output_type": "display_data",
          "data": {
            "text/plain": [
              "<Figure size 640x480 with 1 Axes>"
            ],
            "image/png": "[encoded data removed]"
          },
          "metadata": {}
        }
      ],
      "source": [
        "# plot Cost Vs Iteration\n",
        "plt.scatter(range(len(j_list)), j_list)\n",
        "plt.show()"
      ]
    },
    {
      "cell_type": "code",
      "execution_count": null,
      "id": "6a65357c",
      "metadata": {
        "colab": {
          "base_uri": "https://localhost:8080/"
        },
        "id": "6a65357c",
        "outputId": "d753b4f1-5f4e-4f8e-f43c-b59ecf919bae"
      },
      "outputs": [
        {
          "output_type": "stream",
          "name": "stdout",
          "text": [
            "R square value is 0.9977\n"
          ]
        }
      ],
      "source": [
        "# Evaulation\n",
        "RSS = ((hyp(x,a,b)-y)**2).sum()\n",
        "TSS = ((hyp(x,a,b)-y.mean())**2).sum()\n",
        "R_2 = 1 -(RSS/TSS)\n",
        "print(f\"R square value is {R_2:.4f}\")"
      ]
    },
    {
      "cell_type": "code",
      "execution_count": null,
      "id": "17e811ac",
      "metadata": {
        "colab": {
          "base_uri": "https://localhost:8080/",
          "height": 430
        },
        "id": "17e811ac",
        "outputId": "a270631b-2149-4698-ed84-bcc83e5eec78"
      },
      "outputs": [
        {
          "output_type": "display_data",
          "data": {
            "text/plain": [
              "<Figure size 640x480 with 1 Axes>"
            ],
            "image/png": "[encoded data removed]"
          },
          "metadata": {}
        }
      ],
      "source": [
        "# Predict Land price\n",
        "x_new = np.arange(80,730,10) # Create x data from 80 to 720 with 10 per step\n",
        "y_predict = hyp(x_new, a, b)\n",
        "plt.scatter(x,y)\n",
        "plt.plot(x_new, y_predict, color = 'red') # plot predict x\n",
        "plt.show()"
      ]
    },
    {
      "cell_type": "markdown",
      "source": [
        "# Example"
      ],
      "metadata": {
        "id": "lTqSB7eP5f_L"
      },
      "id": "lTqSB7eP5f_L"
    },
    {
      "cell_type": "code",
      "execution_count": null,
      "id": "dc2e91b0",
      "metadata": {
        "id": "dc2e91b0"
      },
      "outputs": [],
      "source": [
        "\n",
        "import numpy as np\n",
        "import pandas as pd\n",
        "import seaborn as sns\n"
      ]
    },
    {
      "cell_type": "markdown",
      "source": [
        "## Dataset"
      ],
      "metadata": {
        "id": "Q2DQmV6j5rnr"
      },
      "id": "Q2DQmV6j5rnr"
    },
    {
      "cell_type": "code",
      "execution_count": null,
      "id": "3f22d45b",
      "metadata": {
        "id": "3f22d45b"
      },
      "outputs": [],
      "source": [
        "# path = \"/content/drive/MyDrive/Regression/land_price_1.csv\"\n",
        "path ='land_price_1.csv'\n",
        "df = pd.read_csv(path)"
      ]
    },
    {
      "cell_type": "code",
      "execution_count": null,
      "id": "2307cb65",
      "metadata": {
        "colab": {
          "base_uri": "https://localhost:8080/",
          "height": 206
        },
        "id": "2307cb65",
        "outputId": "d5d6e29f-c9eb-4f1b-e144-f846e72d89b8"
      },
      "outputs": [
        {
          "output_type": "execute_result",
          "data": {
            "text/plain": [
              "   land_area  dist_to_city  price\n",
              "0        122          12.9   15.7\n",
              "1        173          18.4   11.3\n",
              "2        341          11.0   42.0\n",
              "3        439          19.3   35.0\n",
              "4        477          19.7   37.7"
            ],
            "text/html": [
              "\n",
              "  <div id=\"df-75840f29-df8b-4fd4-b630-8088450002ac\" class=\"colab-df-container\">\n",
              "    <div>\n",
              "<style scoped>\n",
              "    .dataframe tbody tr th:only-of-type {\n",
              "        vertical-align: middle;\n",
              "    }\n",
              "\n",
              "    .dataframe tbody tr th {\n",
              "        vertical-align: top;\n",
              "    }\n",
              "\n",
              "    .dataframe thead th {\n",
              "        text-align: right;\n",
              "    }\n",
              "</style>\n",
              "<table border=\"1\" class=\"dataframe\">\n",
              "  <thead>\n",
              "    <tr style=\"text-align: right;\">\n",
              "      <th></th>\n",
              "      <th>land_area</th>\n",
              "      <th>dist_to_city</th>\n",
              "      <th>price</th>\n",
              "    </tr>\n",
              "  </thead>\n",
              "  <tbody>\n",
              "    <tr>\n",
              "      <th>0</th>\n",
              "      <td>122</td>\n",
              "      <td>12.9</td>\n",
              "      <td>15.7</td>\n",
              "    </tr>\n",
              "    <tr>\n",
              "      <th>1</th>\n",
              "      <td>173</td>\n",
              "      <td>18.4</td>\n",
              "      <td>11.3</td>\n",
              "    </tr>\n",
              "    <tr>\n",
              "      <th>2</th>\n",
              "      <td>341</td>\n",
              "      <td>11.0</td>\n",
              "      <td>42.0</td>\n",
              "    </tr>\n",
              "    <tr>\n",
              "      <th>3</th>\n",
              "      <td>439</td>\n",
              "      <td>19.3</td>\n",
              "      <td>35.0</td>\n",
              "    </tr>\n",
              "    <tr>\n",
              "      <th>4</th>\n",
              "      <td>477</td>\n",
              "      <td>19.7</td>\n",
              "      <td>37.7</td>\n",
              "    </tr>\n",
              "  </tbody>\n",
              "</table>\n",
              "</div>\n",
              "    <div class=\"colab-df-buttons\">\n",
              "\n",
              "  <div class=\"colab-df-container\">\n",
              "    <button class=\"colab-df-convert\" onclick=\"convertToInteractive('df-75840f29-df8b-4fd4-b630-8088450002ac')\"\n",
              "            title=\"Convert this dataframe to an interactive table.\"\n",
              "            style=\"display:none;\">\n",
              "\n",
              "  <svg xmlns=\"http://www.w3.org/2000/svg\" height=\"24px\" viewBox=\"0 -960 960 960\">\n",
              "    <path d=\"M120-120v-720h720v720H120Zm60-500h600v-160H180v160Zm220 220h160v-160H400v160Zm0 220h160v-160H400v160ZM180-400h160v-160H180v160Zm440 0h160v-160H620v160ZM180-180h160v-160H180v160Zm440 0h160v-160H620v160Z\"/>\n",
              "  </svg>\n",
              "    </button>\n",
              "\n",
              "  <style>\n",
              "    .colab-df-container {\n",
              "      display:flex;\n",
              "      gap: 12px;\n",
              "    }\n",
              "\n",
              "    .colab-df-convert {\n",
              "      background-color: #E8F0FE;\n",
              "      border: none;\n",
              "      border-radius: 50%;\n",
              "      cursor: pointer;\n",
              "      display: none;\n",
              "      fill: #1967D2;\n",
              "      height: 32px;\n",
              "      padding: 0 0 0 0;\n",
              "      width: 32px;\n",
              "    }\n",
              "\n",
              "    .colab-df-convert:hover {\n",
              "      background-color: #E2EBFA;\n",
              "      box-shadow: 0px 1px 2px rgba(60, 64, 67, 0.3), 0px 1px 3px 1px rgba(60, 64, 67, 0.15);\n",
              "      fill: #174EA6;\n",
              "    }\n",
              "\n",
              "    .colab-df-buttons div {\n",
              "      margin-bottom: 4px;\n",
              "    }\n",
              "\n",
              "    [theme=dark] .colab-df-convert {\n",
              "      background-color: #3B4455;\n",
              "      fill: #D2E3FC;\n",
              "    }\n",
              "\n",
              "    [theme=dark] .colab-df-convert:hover {\n",
              "      background-color: #434B5C;\n",
              "      box-shadow: 0px 1px 3px 1px rgba(0, 0, 0, 0.15);\n",
              "      filter: drop-shadow(0px 1px 2px rgba(0, 0, 0, 0.3));\n",
              "      fill: #FFFFFF;\n",
              "    }\n",
              "  </style>\n",
              "\n",
              "    <script>\n",
              "      const buttonEl =\n",
              "        document.querySelector('#df-75840f29-df8b-4fd4-b630-8088450002ac button.colab-df-convert');\n",
              "      buttonEl.style.display =\n",
              "        google.colab.kernel.accessAllowed ? 'block' : 'none';\n",
              "\n",
              "      async function convertToInteractive(key) {\n",
              "        const element = document.querySelector('#df-75840f29-df8b-4fd4-b630-8088450002ac');\n",
              "        const dataTable =\n",
              "          await google.colab.kernel.invokeFunction('convertToInteractive',\n",
              "                                                    [key], {});\n",
              "        if (!dataTable) return;\n",
              "\n",
              "        const docLinkHtml = 'Like what you see? Visit the ' +\n",
              "          '<a target=\"_blank\" href=https://colab.research.google.com/notebooks/data_table.ipynb>data table notebook</a>'\n",
              "          + ' to learn more about interactive tables.';\n",
              "        element.innerHTML = '';\n",
              "        dataTable['output_type'] = 'display_data';\n",
              "        await google.colab.output.renderOutput(dataTable, element);\n",
              "        const docLink = document.createElement('div');\n",
              "        docLink.innerHTML = docLinkHtml;\n",
              "        element.appendChild(docLink);\n",
              "      }\n",
              "    </script>\n",
              "  </div>\n",
              "\n",
              "\n",
              "<div id=\"df-bcb7e12c-77a7-4491-9036-1645c17777e2\">\n",
              "  <button class=\"colab-df-quickchart\" onclick=\"quickchart('df-bcb7e12c-77a7-4491-9036-1645c17777e2')\"\n",
              "            title=\"Suggest charts\"\n",
              "            style=\"display:none;\">\n",
              "\n",
              "<svg xmlns=\"http://www.w3.org/2000/svg\" height=\"24px\"viewBox=\"0 0 24 24\"\n",
              "     width=\"24px\">\n",
              "    <g>\n",
              "        <path d=\"M19 3H5c-1.1 0-2 .9-2 2v14c0 1.1.9 2 2 2h14c1.1 0 2-.9 2-2V5c0-1.1-.9-2-2-2zM9 17H7v-7h2v7zm4 0h-2V7h2v10zm4 0h-2v-4h2v4z\"/>\n",
              "    </g>\n",
              "</svg>\n",
              "  </button>\n",
              "\n",
              "<style>\n",
              "  .colab-df-quickchart {\n",
              "      --bg-color: #E8F0FE;\n",
              "      --fill-color: #1967D2;\n",
              "      --hover-bg-color: #E2EBFA;\n",
              "      --hover-fill-color: #174EA6;\n",
              "      --disabled-fill-color: #AAA;\n",
              "      --disabled-bg-color: #DDD;\n",
              "  }\n",
              "\n",
              "  [theme=dark] .colab-df-quickchart {\n",
              "      --bg-color: #3B4455;\n",
              "      --fill-color: #D2E3FC;\n",
              "      --hover-bg-color: #434B5C;\n",
              "      --hover-fill-color: #FFFFFF;\n",
              "      --disabled-bg-color: #3B4455;\n",
              "      --disabled-fill-color: #666;\n",
              "  }\n",
              "\n",
              "  .colab-df-quickchart {\n",
              "    background-color: var(--bg-color);\n",
              "    border: none;\n",
              "    border-radius: 50%;\n",
              "    cursor: pointer;\n",
              "    display: none;\n",
              "    fill: var(--fill-color);\n",
              "    height: 32px;\n",
              "    padding: 0;\n",
              "    width: 32px;\n",
              "  }\n",
              "\n",
              "  .colab-df-quickchart:hover {\n",
              "    background-color: var(--hover-bg-color);\n",
              "    box-shadow: 0 1px 2px rgba(60, 64, 67, 0.3), 0 1px 3px 1px rgba(60, 64, 67, 0.15);\n",
              "    fill: var(--button-hover-fill-color);\n",
              "  }\n",
              "\n",
              "  .colab-df-quickchart-complete:disabled,\n",
              "  .colab-df-quickchart-complete:disabled:hover {\n",
              "    background-color: var(--disabled-bg-color);\n",
              "    fill: var(--disabled-fill-color);\n",
              "    box-shadow: none;\n",
              "  }\n",
              "\n",
              "  .colab-df-spinner {\n",
              "    border: 2px solid var(--fill-color);\n",
              "    border-color: transparent;\n",
              "    border-bottom-color: var(--fill-color);\n",
              "    animation:\n",
              "      spin 1s steps(1) infinite;\n",
              "  }\n",
              "\n",
              "  @keyframes spin {\n",
              "    0% {\n",
              "      border-color: transparent;\n",
              "      border-bottom-color: var(--fill-color);\n",
              "      border-left-color: var(--fill-color);\n",
              "    }\n",
              "    20% {\n",
              "      border-color: transparent;\n",
              "      border-left-color: var(--fill-color);\n",
              "      border-top-color: var(--fill-color);\n",
              "    }\n",
              "    30% {\n",
              "      border-color: transparent;\n",
              "      border-left-color: var(--fill-color);\n",
              "      border-top-color: var(--fill-color);\n",
              "      border-right-color: var(--fill-color);\n",
              "    }\n",
              "    40% {\n",
              "      border-color: transparent;\n",
              "      border-right-color: var(--fill-color);\n",
              "      border-top-color: var(--fill-color);\n",
              "    }\n",
              "    60% {\n",
              "      border-color: transparent;\n",
              "      border-right-color: var(--fill-color);\n",
              "    }\n",
              "    80% {\n",
              "      border-color: transparent;\n",
              "      border-right-color: var(--fill-color);\n",
              "      border-bottom-color: var(--fill-color);\n",
              "    }\n",
              "    90% {\n",
              "      border-color: transparent;\n",
              "      border-bottom-color: var(--fill-color);\n",
              "    }\n",
              "  }\n",
              "</style>\n",
              "\n",
              "  <script>\n",
              "    async function quickchart(key) {\n",
              "      const quickchartButtonEl =\n",
              "        document.querySelector('#' + key + ' button');\n",
              "      quickchartButtonEl.disabled = true;  // To prevent multiple clicks.\n",
              "      quickchartButtonEl.classList.add('colab-df-spinner');\n",
              "      try {\n",
              "        const charts = await google.colab.kernel.invokeFunction(\n",
              "            'suggestCharts', [key], {});\n",
              "      } catch (error) {\n",
              "        console.error('Error during call to suggestCharts:', error);\n",
              "      }\n",
              "      quickchartButtonEl.classList.remove('colab-df-spinner');\n",
              "      quickchartButtonEl.classList.add('colab-df-quickchart-complete');\n",
              "    }\n",
              "    (() => {\n",
              "      let quickchartButtonEl =\n",
              "        document.querySelector('#df-bcb7e12c-77a7-4491-9036-1645c17777e2 button');\n",
              "      quickchartButtonEl.style.display =\n",
              "        google.colab.kernel.accessAllowed ? 'block' : 'none';\n",
              "    })();\n",
              "  </script>\n",
              "</div>\n",
              "\n",
              "    </div>\n",
              "  </div>\n"
            ]
          },
          "metadata": {},
          "execution_count": 19
        }
      ],
      "source": [
        "df.head()"
      ]
    },
    {
      "cell_type": "code",
      "execution_count": null,
      "id": "abecf3f8",
      "metadata": {
        "colab": {
          "base_uri": "https://localhost:8080/"
        },
        "id": "abecf3f8",
        "outputId": "20a10d68-accd-417f-f665-8b2981f5988e"
      },
      "outputs": [
        {
          "output_type": "execute_result",
          "data": {
            "text/plain": [
              "(30, 3)"
            ]
          },
          "metadata": {},
          "execution_count": 20
        }
      ],
      "source": [
        "df.shape"
      ]
    },
    {
      "cell_type": "code",
      "execution_count": null,
      "id": "6ef4bb4d",
      "metadata": {
        "id": "6ef4bb4d"
      },
      "outputs": [],
      "source": [
        "X_multi =df.drop(\"price\", axis = 1) # call all feature except price"
      ]
    },
    {
      "cell_type": "code",
      "execution_count": null,
      "id": "3f69e9b6",
      "metadata": {
        "colab": {
          "base_uri": "https://localhost:8080/",
          "height": 206
        },
        "id": "3f69e9b6",
        "outputId": "18b697b6-22e3-4abe-bb73-0a07cd78206c"
      },
      "outputs": [
        {
          "output_type": "execute_result",
          "data": {
            "text/plain": [
              "   land_area  dist_to_city\n",
              "0        122          12.9\n",
              "1        173          18.4\n",
              "2        341          11.0\n",
              "3        439          19.3\n",
              "4        477          19.7"
            ],
            "text/html": [
              "\n",
              "  <div id=\"df-fa95c51c-c6d0-423f-aa13-bc291dd949de\" class=\"colab-df-container\">\n",
              "    <div>\n",
              "<style scoped>\n",
              "    .dataframe tbody tr th:only-of-type {\n",
              "        vertical-align: middle;\n",
              "    }\n",
              "\n",
              "    .dataframe tbody tr th {\n",
              "        vertical-align: top;\n",
              "    }\n",
              "\n",
              "    .dataframe thead th {\n",
              "        text-align: right;\n",
              "    }\n",
              "</style>\n",
              "<table border=\"1\" class=\"dataframe\">\n",
              "  <thead>\n",
              "    <tr style=\"text-align: right;\">\n",
              "      <th></th>\n",
              "      <th>land_area</th>\n",
              "      <th>dist_to_city</th>\n",
              "    </tr>\n",
              "  </thead>\n",
              "  <tbody>\n",
              "    <tr>\n",
              "      <th>0</th>\n",
              "      <td>122</td>\n",
              "      <td>12.9</td>\n",
              "    </tr>\n",
              "    <tr>\n",
              "      <th>1</th>\n",
              "      <td>173</td>\n",
              "      <td>18.4</td>\n",
              "    </tr>\n",
              "    <tr>\n",
              "      <th>2</th>\n",
              "      <td>341</td>\n",
              "      <td>11.0</td>\n",
              "    </tr>\n",
              "    <tr>\n",
              "      <th>3</th>\n",
              "      <td>439</td>\n",
              "      <td>19.3</td>\n",
              "    </tr>\n",
              "    <tr>\n",
              "      <th>4</th>\n",
              "      <td>477</td>\n",
              "      <td>19.7</td>\n",
              "    </tr>\n",
              "  </tbody>\n",
              "</table>\n",
              "</div>\n",
              "    <div class=\"colab-df-buttons\">\n",
              "\n",
              "  <div class=\"colab-df-container\">\n",
              "    <button class=\"colab-df-convert\" onclick=\"convertToInteractive('df-fa95c51c-c6d0-423f-aa13-bc291dd949de')\"\n",
              "            title=\"Convert this dataframe to an interactive table.\"\n",
              "            style=\"display:none;\">\n",
              "\n",
              "  <svg xmlns=\"http://www.w3.org/2000/svg\" height=\"24px\" viewBox=\"0 -960 960 960\">\n",
              "    <path d=\"M120-120v-720h720v720H120Zm60-500h600v-160H180v160Zm220 220h160v-160H400v160Zm0 220h160v-160H400v160ZM180-400h160v-160H180v160Zm440 0h160v-160H620v160ZM180-180h160v-160H180v160Zm440 0h160v-160H620v160Z\"/>\n",
              "  </svg>\n",
              "    </button>\n",
              "\n",
              "  <style>\n",
              "    .colab-df-container {\n",
              "      display:flex;\n",
              "      gap: 12px;\n",
              "    }\n",
              "\n",
              "    .colab-df-convert {\n",
              "      background-color: #E8F0FE;\n",
              "      border: none;\n",
              "      border-radius: 50%;\n",
              "      cursor: pointer;\n",
              "      display: none;\n",
              "      fill: #1967D2;\n",
              "      height: 32px;\n",
              "      padding: 0 0 0 0;\n",
              "      width: 32px;\n",
              "    }\n",
              "\n",
              "    .colab-df-convert:hover {\n",
              "      background-color: #E2EBFA;\n",
              "      box-shadow: 0px 1px 2px rgba(60, 64, 67, 0.3), 0px 1px 3px 1px rgba(60, 64, 67, 0.15);\n",
              "      fill: #174EA6;\n",
              "    }\n",
              "\n",
              "    .colab-df-buttons div {\n",
              "      margin-bottom: 4px;\n",
              "    }\n",
              "\n",
              "    [theme=dark] .colab-df-convert {\n",
              "      background-color: #3B4455;\n",
              "      fill: #D2E3FC;\n",
              "    }\n",
              "\n",
              "    [theme=dark] .colab-df-convert:hover {\n",
              "      background-color: #434B5C;\n",
              "      box-shadow: 0px 1px 3px 1px rgba(0, 0, 0, 0.15);\n",
              "      filter: drop-shadow(0px 1px 2px rgba(0, 0, 0, 0.3));\n",
              "      fill: #FFFFFF;\n",
              "    }\n",
              "  </style>\n",
              "\n",
              "    <script>\n",
              "      const buttonEl =\n",
              "        document.querySelector('#df-fa95c51c-c6d0-423f-aa13-bc291dd949de button.colab-df-convert');\n",
              "      buttonEl.style.display =\n",
              "        google.colab.kernel.accessAllowed ? 'block' : 'none';\n",
              "\n",
              "      async function convertToInteractive(key) {\n",
              "        const element = document.querySelector('#df-fa95c51c-c6d0-423f-aa13-bc291dd949de');\n",
              "        const dataTable =\n",
              "          await google.colab.kernel.invokeFunction('convertToInteractive',\n",
              "                                                    [key], {});\n",
              "        if (!dataTable) return;\n",
              "\n",
              "        const docLinkHtml = 'Like what you see? Visit the ' +\n",
              "          '<a target=\"_blank\" href=https://colab.research.google.com/notebooks/data_table.ipynb>data table notebook</a>'\n",
              "          + ' to learn more about interactive tables.';\n",
              "        element.innerHTML = '';\n",
              "        dataTable['output_type'] = 'display_data';\n",
              "        await google.colab.output.renderOutput(dataTable, element);\n",
              "        const docLink = document.createElement('div');\n",
              "        docLink.innerHTML = docLinkHtml;\n",
              "        element.appendChild(docLink);\n",
              "      }\n",
              "    </script>\n",
              "  </div>\n",
              "\n",
              "\n",
              "<div id=\"df-ce5dfa76-d7fd-49cd-944f-95c7eaa09a03\">\n",
              "  <button class=\"colab-df-quickchart\" onclick=\"quickchart('df-ce5dfa76-d7fd-49cd-944f-95c7eaa09a03')\"\n",
              "            title=\"Suggest charts\"\n",
              "            style=\"display:none;\">\n",
              "\n",
              "<svg xmlns=\"http://www.w3.org/2000/svg\" height=\"24px\"viewBox=\"0 0 24 24\"\n",
              "     width=\"24px\">\n",
              "    <g>\n",
              "        <path d=\"M19 3H5c-1.1 0-2 .9-2 2v14c0 1.1.9 2 2 2h14c1.1 0 2-.9 2-2V5c0-1.1-.9-2-2-2zM9 17H7v-7h2v7zm4 0h-2V7h2v10zm4 0h-2v-4h2v4z\"/>\n",
              "    </g>\n",
              "</svg>\n",
              "  </button>\n",
              "\n",
              "<style>\n",
              "  .colab-df-quickchart {\n",
              "      --bg-color: #E8F0FE;\n",
              "      --fill-color: #1967D2;\n",
              "      --hover-bg-color: #E2EBFA;\n",
              "      --hover-fill-color: #174EA6;\n",
              "      --disabled-fill-color: #AAA;\n",
              "      --disabled-bg-color: #DDD;\n",
              "  }\n",
              "\n",
              "  [theme=dark] .colab-df-quickchart {\n",
              "      --bg-color: #3B4455;\n",
              "      --fill-color: #D2E3FC;\n",
              "      --hover-bg-color: #434B5C;\n",
              "      --hover-fill-color: #FFFFFF;\n",
              "      --disabled-bg-color: #3B4455;\n",
              "      --disabled-fill-color: #666;\n",
              "  }\n",
              "\n",
              "  .colab-df-quickchart {\n",
              "    background-color: var(--bg-color);\n",
              "    border: none;\n",
              "    border-radius: 50%;\n",
              "    cursor: pointer;\n",
              "    display: none;\n",
              "    fill: var(--fill-color);\n",
              "    height: 32px;\n",
              "    padding: 0;\n",
              "    width: 32px;\n",
              "  }\n",
              "\n",
              "  .colab-df-quickchart:hover {\n",
              "    background-color: var(--hover-bg-color);\n",
              "    box-shadow: 0 1px 2px rgba(60, 64, 67, 0.3), 0 1px 3px 1px rgba(60, 64, 67, 0.15);\n",
              "    fill: var(--button-hover-fill-color);\n",
              "  }\n",
              "\n",
              "  .colab-df-quickchart-complete:disabled,\n",
              "  .colab-df-quickchart-complete:disabled:hover {\n",
              "    background-color: var(--disabled-bg-color);\n",
              "    fill: var(--disabled-fill-color);\n",
              "    box-shadow: none;\n",
              "  }\n",
              "\n",
              "  .colab-df-spinner {\n",
              "    border: 2px solid var(--fill-color);\n",
              "    border-color: transparent;\n",
              "    border-bottom-color: var(--fill-color);\n",
              "    animation:\n",
              "      spin 1s steps(1) infinite;\n",
              "  }\n",
              "\n",
              "  @keyframes spin {\n",
              "    0% {\n",
              "      border-color: transparent;\n",
              "      border-bottom-color: var(--fill-color);\n",
              "      border-left-color: var(--fill-color);\n",
              "    }\n",
              "    20% {\n",
              "      border-color: transparent;\n",
              "      border-left-color: var(--fill-color);\n",
              "      border-top-color: var(--fill-color);\n",
              "    }\n",
              "    30% {\n",
              "      border-color: transparent;\n",
              "      border-left-color: var(--fill-color);\n",
              "      border-top-color: var(--fill-color);\n",
              "      border-right-color: var(--fill-color);\n",
              "    }\n",
              "    40% {\n",
              "      border-color: transparent;\n",
              "      border-right-color: var(--fill-color);\n",
              "      border-top-color: var(--fill-color);\n",
              "    }\n",
              "    60% {\n",
              "      border-color: transparent;\n",
              "      border-right-color: var(--fill-color);\n",
              "    }\n",
              "    80% {\n",
              "      border-color: transparent;\n",
              "      border-right-color: var(--fill-color);\n",
              "      border-bottom-color: var(--fill-color);\n",
              "    }\n",
              "    90% {\n",
              "      border-color: transparent;\n",
              "      border-bottom-color: var(--fill-color);\n",
              "    }\n",
              "  }\n",
              "</style>\n",
              "\n",
              "  <script>\n",
              "    async function quickchart(key) {\n",
              "      const quickchartButtonEl =\n",
              "        document.querySelector('#' + key + ' button');\n",
              "      quickchartButtonEl.disabled = true;  // To prevent multiple clicks.\n",
              "      quickchartButtonEl.classList.add('colab-df-spinner');\n",
              "      try {\n",
              "        const charts = await google.colab.kernel.invokeFunction(\n",
              "            'suggestCharts', [key], {});\n",
              "      } catch (error) {\n",
              "        console.error('Error during call to suggestCharts:', error);\n",
              "      }\n",
              "      quickchartButtonEl.classList.remove('colab-df-spinner');\n",
              "      quickchartButtonEl.classList.add('colab-df-quickchart-complete');\n",
              "    }\n",
              "    (() => {\n",
              "      let quickchartButtonEl =\n",
              "        document.querySelector('#df-ce5dfa76-d7fd-49cd-944f-95c7eaa09a03 button');\n",
              "      quickchartButtonEl.style.display =\n",
              "        google.colab.kernel.accessAllowed ? 'block' : 'none';\n",
              "    })();\n",
              "  </script>\n",
              "</div>\n",
              "\n",
              "    </div>\n",
              "  </div>\n"
            ]
          },
          "metadata": {},
          "execution_count": 22
        }
      ],
      "source": [
        "X_multi.head()"
      ]
    },
    {
      "cell_type": "code",
      "execution_count": null,
      "id": "2e29e045",
      "metadata": {
        "colab": {
          "base_uri": "https://localhost:8080/"
        },
        "id": "2e29e045",
        "outputId": "723fe23b-76ed-4681-cf47-eaccbda50949"
      },
      "outputs": [
        {
          "output_type": "execute_result",
          "data": {
            "text/plain": [
              "0    122\n",
              "1    173\n",
              "2    341\n",
              "3    439\n",
              "4    477\n",
              "Name: land_area, dtype: int64"
            ]
          },
          "metadata": {},
          "execution_count": 23
        }
      ],
      "source": [
        "x1= df['land_area']\n",
        "x1.head()"
      ]
    },
    {
      "cell_type": "code",
      "execution_count": null,
      "id": "3be8d398",
      "metadata": {
        "colab": {
          "base_uri": "https://localhost:8080/"
        },
        "id": "3be8d398",
        "outputId": "7b1330b8-9951-4183-ff50-1bfc6776d35a"
      },
      "outputs": [
        {
          "output_type": "execute_result",
          "data": {
            "text/plain": [
              "0    12.9\n",
              "1    18.4\n",
              "2    11.0\n",
              "3    19.3\n",
              "4    19.7\n",
              "Name: dist_to_city, dtype: float64"
            ]
          },
          "metadata": {},
          "execution_count": 24
        }
      ],
      "source": [
        "x2= df['dist_to_city']\n",
        "x2.head()"
      ]
    },
    {
      "cell_type": "code",
      "execution_count": null,
      "id": "b6edc7af",
      "metadata": {
        "colab": {
          "base_uri": "https://localhost:8080/"
        },
        "id": "b6edc7af",
        "outputId": "4a57fc2c-ae4d-4c7f-d927-1d488f94f5ba"
      },
      "outputs": [
        {
          "output_type": "execute_result",
          "data": {
            "text/plain": [
              "0    15.7\n",
              "1    11.3\n",
              "2    42.0\n",
              "3    35.0\n",
              "4    37.7\n",
              "Name: price, dtype: float64"
            ]
          },
          "metadata": {},
          "execution_count": 25
        }
      ],
      "source": [
        "y2= df['price']\n",
        "y2.head()"
      ]
    },
    {
      "cell_type": "code",
      "execution_count": null,
      "id": "ef034623",
      "metadata": {
        "colab": {
          "base_uri": "https://localhost:8080/"
        },
        "id": "ef034623",
        "outputId": "eb13e291-5222-40d9-a176-550281bd3014"
      },
      "outputs": [
        {
          "output_type": "stream",
          "name": "stdout",
          "text": [
            "15\n"
          ]
        }
      ],
      "source": [
        "def hypo(x1,x2,a,b,c):\n",
        "    y2 = a*x1 + b*x2 + c\n",
        "    return y2\n",
        "print(hypo(2,1,3,4,5))"
      ]
    },
    {
      "cell_type": "code",
      "execution_count": null,
      "id": "ac193724",
      "metadata": {
        "id": "ac193724"
      },
      "outputs": [],
      "source": [
        "def cos_funct(x1,x2,a,b,c,y2):\n",
        "    J= ((hypo(x1,x2,a,b,c)-y2)**2).mean()\n",
        "    return J"
      ]
    },
    {
      "cell_type": "code",
      "execution_count": null,
      "id": "33815fc3",
      "metadata": {
        "id": "33815fc3"
      },
      "outputs": [],
      "source": [
        "def grad_a(x1,x2,a,b,c,y2):\n",
        "    grad_mul = ((hypo(x1,x2,a,b,c)-y2)*x1).mean()\n",
        "    grad_mul = 2*grad_mul\n",
        "    return grad_mul"
      ]
    },
    {
      "cell_type": "code",
      "execution_count": null,
      "id": "0ff8e465",
      "metadata": {
        "id": "0ff8e465"
      },
      "outputs": [],
      "source": [
        "def grad_b(x1,x2,a,b,c,y2):\n",
        "    grad_mul = ((hypo(x1,x2,a,b,c)-y2)*x2).mean()\n",
        "    grad_mul = 2*grad_mul\n",
        "    return grad_mul"
      ]
    },
    {
      "cell_type": "code",
      "execution_count": null,
      "id": "92f9b455",
      "metadata": {
        "id": "92f9b455"
      },
      "outputs": [],
      "source": [
        "def grad_c(x1,x2,a,b,c,y2):\n",
        "    grad_mul = ((hypo(x1,x2,a,b,c)-y2)).mean()\n",
        "    grad_mul = 2*grad_mul\n",
        "    return grad_mul"
      ]
    },
    {
      "cell_type": "markdown",
      "source": [
        "## Gradient Descent"
      ],
      "metadata": {
        "id": "Eys1cmy55v_f"
      },
      "id": "Eys1cmy55v_f"
    },
    {
      "cell_type": "code",
      "execution_count": null,
      "id": "2c53d1f9",
      "metadata": {
        "colab": {
          "base_uri": "https://localhost:8080/"
        },
        "id": "2c53d1f9",
        "outputId": "a6697a60-fa84-4909-cf6f-aad378574f86"
      },
      "outputs": [
        {
          "output_type": "stream",
          "name": "stdout",
          "text": [
            "Iter0, mse = 35052.9207\n",
            "Iter1, mse = 30805.1279\n",
            "Iter2, mse = 27074.4585\n",
            "Iter3, mse = 23797.9583\n",
            "Iter4, mse = 20920.3369\n",
            "Iter5, mse = 18393.0353\n",
            "Iter6, mse = 16173.4055\n",
            "Iter7, mse = 14223.9920\n",
            "Iter8, mse = 12511.8988\n",
            "Iter9, mse = 11008.2346\n",
            "Iter10, mse = 9687.6254\n",
            "Iter11, mse = 8527.7863\n",
            "Iter12, mse = 7509.1452\n",
            "Iter13, mse = 6614.5128\n",
            "Iter14, mse = 5828.7922\n",
            "Iter15, mse = 5138.7248\n",
            "Iter16, mse = 4532.6657\n",
            "Iter17, mse = 4000.3878\n",
            "Iter18, mse = 3532.9090\n",
            "Iter19, mse = 3122.3407\n",
            "Iter20, mse = 2761.7548\n",
            "Iter21, mse = 2445.0663\n",
            "Iter22, mse = 2166.9312\n",
            "Iter23, mse = 1922.6561\n",
            "Iter24, mse = 1708.1189\n",
            "Iter25, mse = 1519.6992\n",
            "Iter26, mse = 1354.2176\n",
            "Iter27, mse = 1208.8817\n",
            "Iter28, mse = 1081.2388\n",
            "Iter29, mse = 969.1350\n",
            "Iter30, mse = 870.6787\n",
            "Iter31, mse = 784.2084\n",
            "Iter32, mse = 708.2649\n",
            "Iter33, mse = 641.5666\n",
            "Iter34, mse = 582.9882\n",
            "Iter35, mse = 531.5411\n",
            "Iter36, mse = 486.3570\n",
            "Iter37, mse = 446.6737\n",
            "Iter38, mse = 411.8213\n",
            "Iter39, mse = 381.2118\n",
            "Iter40, mse = 354.3287\n",
            "Iter41, mse = 330.7183\n",
            "Iter42, mse = 309.9822\n",
            "Iter43, mse = 291.7705\n",
            "Iter44, mse = 275.7759\n",
            "Iter45, mse = 261.7284\n",
            "Iter46, mse = 249.3910\n",
            "Iter47, mse = 238.5556\n",
            "Iter48, mse = 229.0392\n",
            "Iter49, mse = 220.6814\n",
            "Iter50, mse = 213.3410\n",
            "Iter51, mse = 206.8942\n",
            "Iter52, mse = 201.2322\n",
            "Iter53, mse = 196.2595\n",
            "Iter54, mse = 191.8922\n",
            "Iter55, mse = 188.0565\n",
            "Iter56, mse = 184.6878\n",
            "Iter57, mse = 181.7291\n",
            "Iter58, mse = 179.1306\n",
            "Iter59, mse = 176.8485\n",
            "Iter60, mse = 174.8441\n",
            "Iter61, mse = 173.0838\n",
            "Iter62, mse = 171.5377\n",
            "Iter63, mse = 170.1798\n",
            "Iter64, mse = 168.9873\n",
            "Iter65, mse = 167.9399\n",
            "Iter66, mse = 167.0200\n",
            "Iter67, mse = 166.2120\n",
            "Iter68, mse = 165.5025\n",
            "Iter69, mse = 164.8792\n",
            "Iter70, mse = 164.3319\n",
            "Iter71, mse = 163.8511\n",
            "Iter72, mse = 163.4289\n",
            "Iter73, mse = 163.0581\n",
            "Iter74, mse = 162.7324\n",
            "Iter75, mse = 162.4463\n",
            "Iter76, mse = 162.1950\n",
            "Iter77, mse = 161.9743\n",
            "Iter78, mse = 161.7805\n",
            "Iter79, mse = 161.6103\n",
            "Iter80, mse = 161.4607\n",
            "Iter81, mse = 161.3294\n",
            "Iter82, mse = 161.2140\n",
            "Iter83, mse = 161.1127\n",
            "Iter84, mse = 161.0236\n",
            "Iter85, mse = 160.9454\n",
            "Iter86, mse = 160.8768\n",
            "Iter87, mse = 160.8164\n",
            "Iter88, mse = 160.7634\n",
            "Iter89, mse = 160.7168\n",
            "Iter90, mse = 160.6759\n",
            "Iter91, mse = 160.6400\n",
            "Iter92, mse = 160.6084\n",
            "Iter93, mse = 160.5806\n",
            "Iter94, mse = 160.5562\n",
            "Iter95, mse = 160.5348\n",
            "Iter96, mse = 160.5160\n",
            "Iter97, mse = 160.4994\n",
            "Iter98, mse = 160.4848\n",
            "Iter99, mse = 160.4720\n",
            "Iter100, mse = 160.4608\n",
            "Iter101, mse = 160.4509\n",
            "Iter102, mse = 160.4422\n",
            "Iter103, mse = 160.4345\n",
            "Iter104, mse = 160.4278\n",
            "Iter105, mse = 160.4218\n",
            "Iter106, mse = 160.4166\n",
            "Iter107, mse = 160.4120\n",
            "Iter108, mse = 160.4079\n",
            "Iter109, mse = 160.4044\n",
            "Iter110, mse = 160.4012\n",
            "Iter111, mse = 160.3984\n",
            "Iter112, mse = 160.3960\n",
            "Iter113, mse = 160.3938\n",
            "Iter114, mse = 160.3919\n",
            "Iter115, mse = 160.3902\n",
            "Iter116, mse = 160.3886\n",
            "Iter117, mse = 160.3873\n",
            "Iter118, mse = 160.3861\n",
            "Iter119, mse = 160.3850\n",
            "Iter120, mse = 160.3841\n",
            "Iter121, mse = 160.3833\n",
            "Iter122, mse = 160.3825\n",
            "Iter123, mse = 160.3818\n",
            "Iter124, mse = 160.3812\n",
            "Iter125, mse = 160.3807\n",
            "Iter126, mse = 160.3802\n",
            "Iter127, mse = 160.3797\n",
            "Iter128, mse = 160.3793\n",
            "Iter129, mse = 160.3789\n",
            "Iter130, mse = 160.3786\n",
            "Iter131, mse = 160.3783\n",
            "Iter132, mse = 160.3780\n",
            "Iter133, mse = 160.3777\n",
            "Iter134, mse = 160.3775\n",
            "Iter135, mse = 160.3772\n",
            "Iter136, mse = 160.3770\n",
            "Iter137, mse = 160.3768\n",
            "Iter138, mse = 160.3766\n",
            "Iter139, mse = 160.3764\n",
            "Iter140, mse = 160.3762\n",
            "Iter141, mse = 160.3761\n",
            "Iter142, mse = 160.3759\n",
            "Iter143, mse = 160.3758\n",
            "Iter144, mse = 160.3756\n",
            "Iter145, mse = 160.3755\n",
            "Iter146, mse = 160.3753\n",
            "Iter147, mse = 160.3752\n",
            "Iter148, mse = 160.3750\n",
            "Iter149, mse = 160.3749\n",
            "Iter150, mse = 160.3748\n",
            "Iter151, mse = 160.3746\n",
            "Iter152, mse = 160.3745\n",
            "Iter153, mse = 160.3744\n",
            "Iter154, mse = 160.3743\n",
            "Iter155, mse = 160.3741\n",
            "Iter156, mse = 160.3740\n",
            "Iter157, mse = 160.3739\n",
            "Iter158, mse = 160.3738\n",
            "Iter159, mse = 160.3736\n",
            "Iter160, mse = 160.3735\n",
            "Iter161, mse = 160.3734\n",
            "Iter162, mse = 160.3733\n",
            "Iter163, mse = 160.3732\n",
            "Iter164, mse = 160.3730\n",
            "Iter165, mse = 160.3729\n",
            "Iter166, mse = 160.3728\n",
            "Iter167, mse = 160.3727\n",
            "Iter168, mse = 160.3726\n",
            "Iter169, mse = 160.3725\n",
            "Iter170, mse = 160.3723\n",
            "Iter171, mse = 160.3722\n",
            "Iter172, mse = 160.3721\n",
            "Iter173, mse = 160.3720\n",
            "Iter174, mse = 160.3719\n",
            "Iter175, mse = 160.3718\n",
            "Iter176, mse = 160.3716\n",
            "Iter177, mse = 160.3715\n",
            "Iter178, mse = 160.3714\n",
            "Iter179, mse = 160.3713\n",
            "Iter180, mse = 160.3712\n",
            "Iter181, mse = 160.3711\n",
            "Iter182, mse = 160.3709\n",
            "Iter183, mse = 160.3708\n",
            "Iter184, mse = 160.3707\n",
            "Iter185, mse = 160.3706\n",
            "Iter186, mse = 160.3705\n",
            "Iter187, mse = 160.3704\n",
            "Iter188, mse = 160.3703\n",
            "Iter189, mse = 160.3701\n",
            "Iter190, mse = 160.3700\n",
            "Iter191, mse = 160.3699\n",
            "Iter192, mse = 160.3698\n",
            "Iter193, mse = 160.3697\n",
            "Iter194, mse = 160.3696\n",
            "Iter195, mse = 160.3694\n",
            "Iter196, mse = 160.3693\n",
            "Iter197, mse = 160.3692\n",
            "Iter198, mse = 160.3691\n",
            "Iter199, mse = 160.3690\n",
            "Iter200, mse = 160.3689\n",
            "Iter201, mse = 160.3688\n",
            "Iter202, mse = 160.3686\n",
            "Iter203, mse = 160.3685\n",
            "Iter204, mse = 160.3684\n",
            "Iter205, mse = 160.3683\n",
            "Iter206, mse = 160.3682\n",
            "Iter207, mse = 160.3681\n",
            "Iter208, mse = 160.3679\n",
            "Iter209, mse = 160.3678\n",
            "Iter210, mse = 160.3677\n",
            "Iter211, mse = 160.3676\n",
            "Iter212, mse = 160.3675\n",
            "Iter213, mse = 160.3674\n",
            "Iter214, mse = 160.3673\n",
            "Iter215, mse = 160.3671\n",
            "Iter216, mse = 160.3670\n",
            "Iter217, mse = 160.3669\n",
            "Iter218, mse = 160.3668\n",
            "Iter219, mse = 160.3667\n",
            "Iter220, mse = 160.3666\n",
            "Iter221, mse = 160.3664\n",
            "Iter222, mse = 160.3663\n",
            "Iter223, mse = 160.3662\n",
            "Iter224, mse = 160.3661\n",
            "Iter225, mse = 160.3660\n",
            "Iter226, mse = 160.3659\n",
            "Iter227, mse = 160.3658\n",
            "Iter228, mse = 160.3656\n",
            "Iter229, mse = 160.3655\n",
            "Iter230, mse = 160.3654\n",
            "Iter231, mse = 160.3653\n",
            "Iter232, mse = 160.3652\n",
            "Iter233, mse = 160.3651\n",
            "Iter234, mse = 160.3649\n",
            "Iter235, mse = 160.3648\n",
            "Iter236, mse = 160.3647\n",
            "Iter237, mse = 160.3646\n",
            "Iter238, mse = 160.3645\n",
            "Iter239, mse = 160.3644\n",
            "Iter240, mse = 160.3643\n",
            "Iter241, mse = 160.3641\n",
            "Iter242, mse = 160.3640\n",
            "Iter243, mse = 160.3639\n",
            "Iter244, mse = 160.3638\n",
            "Iter245, mse = 160.3637\n",
            "Iter246, mse = 160.3636\n",
            "Iter247, mse = 160.3634\n",
            "Iter248, mse = 160.3633\n",
            "Iter249, mse = 160.3632\n",
            "Iter250, mse = 160.3631\n",
            "Iter251, mse = 160.3630\n",
            "Iter252, mse = 160.3629\n",
            "Iter253, mse = 160.3627\n",
            "Iter254, mse = 160.3626\n",
            "Iter255, mse = 160.3625\n",
            "Iter256, mse = 160.3624\n",
            "Iter257, mse = 160.3623\n",
            "Iter258, mse = 160.3622\n",
            "Iter259, mse = 160.3621\n",
            "Iter260, mse = 160.3619\n",
            "Iter261, mse = 160.3618\n",
            "Iter262, mse = 160.3617\n",
            "Iter263, mse = 160.3616\n",
            "Iter264, mse = 160.3615\n",
            "Iter265, mse = 160.3614\n",
            "Iter266, mse = 160.3612\n",
            "Iter267, mse = 160.3611\n",
            "Iter268, mse = 160.3610\n",
            "Iter269, mse = 160.3609\n",
            "Iter270, mse = 160.3608\n",
            "Iter271, mse = 160.3607\n",
            "Iter272, mse = 160.3606\n",
            "Iter273, mse = 160.3604\n",
            "Iter274, mse = 160.3603\n",
            "Iter275, mse = 160.3602\n",
            "Iter276, mse = 160.3601\n",
            "Iter277, mse = 160.3600\n",
            "Iter278, mse = 160.3599\n",
            "Iter279, mse = 160.3597\n",
            "Iter280, mse = 160.3596\n",
            "Iter281, mse = 160.3595\n",
            "Iter282, mse = 160.3594\n",
            "Iter283, mse = 160.3593\n",
            "Iter284, mse = 160.3592\n",
            "Iter285, mse = 160.3591\n",
            "Iter286, mse = 160.3589\n",
            "Iter287, mse = 160.3588\n",
            "Iter288, mse = 160.3587\n",
            "Iter289, mse = 160.3586\n",
            "Iter290, mse = 160.3585\n",
            "Iter291, mse = 160.3584\n",
            "Iter292, mse = 160.3582\n",
            "Iter293, mse = 160.3581\n",
            "Iter294, mse = 160.3580\n",
            "Iter295, mse = 160.3579\n",
            "Iter296, mse = 160.3578\n",
            "Iter297, mse = 160.3577\n",
            "Iter298, mse = 160.3576\n",
            "Iter299, mse = 160.3574\n",
            "Iter300, mse = 160.3573\n",
            "Iter301, mse = 160.3572\n",
            "Iter302, mse = 160.3571\n",
            "Iter303, mse = 160.3570\n",
            "Iter304, mse = 160.3569\n",
            "Iter305, mse = 160.3567\n",
            "Iter306, mse = 160.3566\n",
            "Iter307, mse = 160.3565\n",
            "Iter308, mse = 160.3564\n",
            "Iter309, mse = 160.3563\n",
            "Iter310, mse = 160.3562\n",
            "Iter311, mse = 160.3561\n",
            "Iter312, mse = 160.3559\n",
            "Iter313, mse = 160.3558\n",
            "Iter314, mse = 160.3557\n",
            "Iter315, mse = 160.3556\n",
            "Iter316, mse = 160.3555\n",
            "Iter317, mse = 160.3554\n",
            "Iter318, mse = 160.3552\n",
            "Iter319, mse = 160.3551\n",
            "Iter320, mse = 160.3550\n",
            "Iter321, mse = 160.3549\n",
            "Iter322, mse = 160.3548\n",
            "Iter323, mse = 160.3547\n",
            "Iter324, mse = 160.3546\n",
            "Iter325, mse = 160.3544\n",
            "Iter326, mse = 160.3543\n",
            "Iter327, mse = 160.3542\n",
            "Iter328, mse = 160.3541\n",
            "Iter329, mse = 160.3540\n",
            "Iter330, mse = 160.3539\n",
            "Iter331, mse = 160.3537\n",
            "Iter332, mse = 160.3536\n",
            "Iter333, mse = 160.3535\n",
            "Iter334, mse = 160.3534\n",
            "Iter335, mse = 160.3533\n",
            "Iter336, mse = 160.3532\n",
            "Iter337, mse = 160.3531\n",
            "Iter338, mse = 160.3529\n",
            "Iter339, mse = 160.3528\n",
            "Iter340, mse = 160.3527\n",
            "Iter341, mse = 160.3526\n",
            "Iter342, mse = 160.3525\n",
            "Iter343, mse = 160.3524\n",
            "Iter344, mse = 160.3522\n",
            "Iter345, mse = 160.3521\n",
            "Iter346, mse = 160.3520\n",
            "Iter347, mse = 160.3519\n",
            "Iter348, mse = 160.3518\n",
            "Iter349, mse = 160.3517\n",
            "Iter350, mse = 160.3516\n",
            "Iter351, mse = 160.3514\n",
            "Iter352, mse = 160.3513\n",
            "Iter353, mse = 160.3512\n",
            "Iter354, mse = 160.3511\n",
            "Iter355, mse = 160.3510\n",
            "Iter356, mse = 160.3509\n",
            "Iter357, mse = 160.3507\n",
            "Iter358, mse = 160.3506\n",
            "Iter359, mse = 160.3505\n",
            "Iter360, mse = 160.3504\n",
            "Iter361, mse = 160.3503\n",
            "Iter362, mse = 160.3502\n",
            "Iter363, mse = 160.3501\n",
            "Iter364, mse = 160.3499\n",
            "Iter365, mse = 160.3498\n",
            "Iter366, mse = 160.3497\n",
            "Iter367, mse = 160.3496\n",
            "Iter368, mse = 160.3495\n",
            "Iter369, mse = 160.3494\n",
            "Iter370, mse = 160.3492\n",
            "Iter371, mse = 160.3491\n",
            "Iter372, mse = 160.3490\n",
            "Iter373, mse = 160.3489\n",
            "Iter374, mse = 160.3488\n",
            "Iter375, mse = 160.3487\n",
            "Iter376, mse = 160.3486\n",
            "Iter377, mse = 160.3484\n",
            "Iter378, mse = 160.3483\n",
            "Iter379, mse = 160.3482\n",
            "Iter380, mse = 160.3481\n",
            "Iter381, mse = 160.3480\n",
            "Iter382, mse = 160.3479\n",
            "Iter383, mse = 160.3477\n",
            "Iter384, mse = 160.3476\n",
            "Iter385, mse = 160.3475\n",
            "Iter386, mse = 160.3474\n",
            "Iter387, mse = 160.3473\n",
            "Iter388, mse = 160.3472\n",
            "Iter389, mse = 160.3471\n",
            "Iter390, mse = 160.3469\n",
            "Iter391, mse = 160.3468\n",
            "Iter392, mse = 160.3467\n",
            "Iter393, mse = 160.3466\n",
            "Iter394, mse = 160.3465\n",
            "Iter395, mse = 160.3464\n",
            "Iter396, mse = 160.3462\n",
            "Iter397, mse = 160.3461\n",
            "Iter398, mse = 160.3460\n",
            "Iter399, mse = 160.3459\n",
            "Iter400, mse = 160.3458\n",
            "Iter401, mse = 160.3457\n",
            "Iter402, mse = 160.3456\n",
            "Iter403, mse = 160.3454\n",
            "Iter404, mse = 160.3453\n",
            "Iter405, mse = 160.3452\n",
            "Iter406, mse = 160.3451\n",
            "Iter407, mse = 160.3450\n",
            "Iter408, mse = 160.3449\n",
            "Iter409, mse = 160.3447\n",
            "Iter410, mse = 160.3446\n",
            "Iter411, mse = 160.3445\n",
            "Iter412, mse = 160.3444\n",
            "Iter413, mse = 160.3443\n",
            "Iter414, mse = 160.3442\n",
            "Iter415, mse = 160.3440\n",
            "Iter416, mse = 160.3439\n",
            "Iter417, mse = 160.3438\n",
            "Iter418, mse = 160.3437\n",
            "Iter419, mse = 160.3436\n",
            "Iter420, mse = 160.3435\n",
            "Iter421, mse = 160.3434\n",
            "Iter422, mse = 160.3432\n",
            "Iter423, mse = 160.3431\n",
            "Iter424, mse = 160.3430\n",
            "Iter425, mse = 160.3429\n",
            "Iter426, mse = 160.3428\n",
            "Iter427, mse = 160.3427\n",
            "Iter428, mse = 160.3425\n",
            "Iter429, mse = 160.3424\n",
            "Iter430, mse = 160.3423\n",
            "Iter431, mse = 160.3422\n",
            "Iter432, mse = 160.3421\n",
            "Iter433, mse = 160.3420\n",
            "Iter434, mse = 160.3419\n",
            "Iter435, mse = 160.3417\n",
            "Iter436, mse = 160.3416\n",
            "Iter437, mse = 160.3415\n",
            "Iter438, mse = 160.3414\n",
            "Iter439, mse = 160.3413\n",
            "Iter440, mse = 160.3412\n",
            "Iter441, mse = 160.3410\n",
            "Iter442, mse = 160.3409\n",
            "Iter443, mse = 160.3408\n",
            "Iter444, mse = 160.3407\n",
            "Iter445, mse = 160.3406\n",
            "Iter446, mse = 160.3405\n",
            "Iter447, mse = 160.3404\n",
            "Iter448, mse = 160.3402\n",
            "Iter449, mse = 160.3401\n",
            "Iter450, mse = 160.3400\n",
            "Iter451, mse = 160.3399\n",
            "Iter452, mse = 160.3398\n",
            "Iter453, mse = 160.3397\n",
            "Iter454, mse = 160.3395\n",
            "Iter455, mse = 160.3394\n",
            "Iter456, mse = 160.3393\n",
            "Iter457, mse = 160.3392\n",
            "Iter458, mse = 160.3391\n",
            "Iter459, mse = 160.3390\n",
            "Iter460, mse = 160.3389\n",
            "Iter461, mse = 160.3387\n",
            "Iter462, mse = 160.3386\n",
            "Iter463, mse = 160.3385\n",
            "Iter464, mse = 160.3384\n",
            "Iter465, mse = 160.3383\n",
            "Iter466, mse = 160.3382\n",
            "Iter467, mse = 160.3380\n",
            "Iter468, mse = 160.3379\n",
            "Iter469, mse = 160.3378\n",
            "Iter470, mse = 160.3377\n",
            "Iter471, mse = 160.3376\n",
            "Iter472, mse = 160.3375\n",
            "Iter473, mse = 160.3374\n",
            "Iter474, mse = 160.3372\n",
            "Iter475, mse = 160.3371\n",
            "Iter476, mse = 160.3370\n",
            "Iter477, mse = 160.3369\n",
            "Iter478, mse = 160.3368\n",
            "Iter479, mse = 160.3367\n",
            "Iter480, mse = 160.3365\n",
            "Iter481, mse = 160.3364\n",
            "Iter482, mse = 160.3363\n",
            "Iter483, mse = 160.3362\n",
            "Iter484, mse = 160.3361\n",
            "Iter485, mse = 160.3360\n",
            "Iter486, mse = 160.3359\n",
            "Iter487, mse = 160.3357\n",
            "Iter488, mse = 160.3356\n",
            "Iter489, mse = 160.3355\n",
            "Iter490, mse = 160.3354\n",
            "Iter491, mse = 160.3353\n",
            "Iter492, mse = 160.3352\n",
            "Iter493, mse = 160.3350\n",
            "Iter494, mse = 160.3349\n",
            "Iter495, mse = 160.3348\n",
            "Iter496, mse = 160.3347\n",
            "Iter497, mse = 160.3346\n",
            "Iter498, mse = 160.3345\n",
            "Iter499, mse = 160.3344\n"
          ]
        }
      ],
      "source": [
        "# Training Data\n",
        "a, b, c = 0,0, 0\n",
        "alpha = 0.00000001\n",
        "J_list = []\n",
        "for iter in range(500):\n",
        "    J = cos_funct(x1,x2,a,b,c,y2)\n",
        "    J_list.append(J)\n",
        "    a += -alpha*grad_a(x1,x2,a,b,c,y2)\n",
        "    b += -alpha*grad_b(x1,x2,a,b,c,y2)\n",
        "    c += -alpha*grad_c(x1,x2,a,b,c,y2)\n",
        "    print(f\"Iter{iter}, mse = {J:.4f}\")\n"
      ]
    },
    {
      "cell_type": "code",
      "execution_count": null,
      "id": "5973fe71",
      "metadata": {
        "colab": {
          "base_uri": "https://localhost:8080/"
        },
        "id": "5973fe71",
        "outputId": "0d41350d-7bb1-4fab-cfad-02fbf81f8412"
      },
      "outputs": [
        {
          "output_type": "stream",
          "name": "stdout",
          "text": [
            "a = 0.1054, b = b=-0.0001, c = 0.0001\n"
          ]
        }
      ],
      "source": [
        "print(f\"a = {a:.4f}, b = {b=:.4f}, c = {c:.4f}\")"
      ]
    },
    {
      "cell_type": "code",
      "execution_count": null,
      "id": "03984571",
      "metadata": {
        "colab": {
          "base_uri": "https://localhost:8080/",
          "height": 430
        },
        "id": "03984571",
        "outputId": "c488db55-a1e6-45e7-fb0c-c0c3bc059f9c"
      },
      "outputs": [
        {
          "output_type": "display_data",
          "data": {
            "text/plain": [
              "<Figure size 640x480 with 1 Axes>"
            ],
            "image/png": "[encoded data removed]"
          },
          "metadata": {}
        }
      ],
      "source": [
        "plt.scatter(range(500), J_list)\n",
        "plt.show()"
      ]
    },
    {
      "cell_type": "markdown",
      "source": [
        "## R square"
      ],
      "metadata": {
        "id": "WeVzJxka51-i"
      },
      "id": "WeVzJxka51-i"
    },
    {
      "cell_type": "code",
      "execution_count": null,
      "id": "2651829f",
      "metadata": {
        "colab": {
          "base_uri": "https://localhost:8080/"
        },
        "id": "2651829f",
        "outputId": "f038946a-07e5-4308-8c98-7d2d2afef869"
      },
      "outputs": [
        {
          "output_type": "stream",
          "name": "stdout",
          "text": [
            "R square value is 0.9807\n"
          ]
        }
      ],
      "source": [
        "# Evaulation\n",
        "RSS = ((hypo(x1,x2,a,b,c)-y2)**2).sum()\n",
        "TSS = ((hypo(x1,x2,a,b,c)-y2.mean())**2).sum()\n",
        "R_2 = 1 -(RSS/TSS)\n",
        "print(f\"R square value is {R_2:.4f}\")"
      ]
    },
    {
      "cell_type": "markdown",
      "source": [
        "## Visualization"
      ],
      "metadata": {
        "id": "FlhxrNFq59_z"
      },
      "id": "FlhxrNFq59_z"
    },
    {
      "cell_type": "code",
      "execution_count": null,
      "id": "8f18f851",
      "metadata": {
        "colab": {
          "base_uri": "https://localhost:8080/",
          "height": 559
        },
        "id": "8f18f851",
        "outputId": "ba87b361-4b71-4455-c1ce-af42a9d292f6"
      },
      "outputs": [
        {
          "output_type": "stream",
          "name": "stdout",
          "text": [
            "(10, 30) (10, 30)\n"
          ]
        },
        {
          "output_type": "display_data",
          "data": {
            "text/html": [
              "<html>\n",
              "<head><meta charset=\"utf-8\" /></head>\n",
              "<body>\n",
              "    <div>            <script src=\"https://cdnjs.cloudflare.com/ajax/libs/mathjax/2.7.5/MathJax.js?config=TeX-AMS-MML_SVG\"></script><script type=\"text/javascript\">if (window.MathJax && window.MathJax.Hub && window.MathJax.Hub.Config) {window.MathJax.Hub.Config({SVG: {font: \"STIX-Web\"}});}</script>                <script type=\"text/javascript\">window.PlotlyConfig = {MathJaxConfig: 'local'};</script>\n",
              "        <script charset=\"utf-8\" src=\"https://cdn.plot.ly/plotly-2.24.1.min.js\"></script>                <div id=\"4fc91feb-ebd2-4f22-a386-dd49cc7263b4\" class=\"plotly-graph-div\" style=\"height:525px; width:100%;\"></div>            <script type=\"text/javascript\">                                    window.PLOTLYENV=window.PLOTLYENV || {};                                    if (document.getElementById(\"4fc91feb-ebd2-4f22-a386-dd49cc7263b4\")) {                    Plotly.newPlot(                        \"4fc91feb-ebd2-4f22-a386-dd49cc7263b4\",                        [{\"marker\":{\"color\":[15.7,11.3,42.0,35.0,37.7,75.5,77.1,88.7,122.0,119.1,125.6,145.5,150.0,145.0,172.0,170.0,177.0,169.4,211.0,220.0,231.4,216.9,227.5,239.4,244.3,279.8,259.5,295.4,314.1,324.7],\"colorscale\":[[0.0,\"#440154\"],[0.1111111111111111,\"#482878\"],[0.2222222222222222,\"#3e4989\"],[0.3333333333333333,\"#31688e\"],[0.4444444444444444,\"#26828e\"],[0.5555555555555556,\"#1f9e89\"],[0.6666666666666666,\"#35b779\"],[0.7777777777777778,\"#6ece58\"],[0.8888888888888888,\"#b5de2b\"],[1.0,\"#fde725\"]],\"opacity\":0.6,\"size\":5},\"mode\":\"markers\",\"x\":[122,173,341,439,477,597,682,794,912,1001,1081,1203,1255,1355,1465,1650,1707,1768,1863,2015,2133,2158,2282,2423,2496,2575,2679,2846,2890,3026],\"y\":[12.9,18.4,11.0,19.3,19.7,7.1,10.2,10.0,0.1,5.7,5.8,2.5,3.0,9.8,2.5,12.9,12.2,18.4,3.0,5.9,6.2,14.6,14.9,16.7,17.9,3.8,19.6,9.8,2.0,4.4],\"z\":[15.7,11.3,42.0,35.0,37.7,75.5,77.1,88.7,122.0,119.1,125.6,145.5,150.0,145.0,172.0,170.0,177.0,169.4,211.0,220.0,231.4,216.9,227.5,239.4,244.3,279.8,259.5,295.4,314.1,324.7],\"type\":\"scatter3d\"},{\"name\":\"pred_surface\",\"x\":[122,222,322,422,522,622,722,822,922,1022,1122,1222,1322,1422,1522,1622,1722,1822,1922,2022,2122,2222,2322,2422,2522,2622,2722,2822,2922,3022],\"y\":[0.1,2.1,4.1,6.1,8.1,10.1,12.1,14.1,16.1,18.1],\"z\":[[12.856290345940788,23.394184811803164,33.932079277665544,44.46997374352792,55.007868209390296,65.54576267525266,76.08365714111504,86.62155160697742,97.15944607283978,107.69734053870216,118.23523500456454,128.7731294704269,139.3110239362893,149.84891840215167,160.38681286801403,170.92470733387643,181.4626017997388,192.00049626560116,202.53839073146355,213.07628519732592,223.6141796631883,234.15207412905067,244.68996859491304,255.22786306077543,265.7657575266378,276.3036519925002,286.84154645836253,297.3794409242249,307.9173353900873,318.45522985594965],[12.856152116440928,23.394046582303304,33.93194104816568,44.46983551402806,55.007729979890435,65.54562444575281,76.08351891161519,86.62141337747757,97.15930784333993,107.69720230920231,118.23509677506469,128.77299124092704,139.31088570678943,149.8487801726518,160.38667463851417,170.92456910437656,181.46246357023892,192.0003580361013,202.53825250196368,213.07614696782605,223.61404143368844,234.1519358995508,244.68983036541317,255.22772483127557,265.76561929713796,276.30351376300035,286.8414082288627,297.3793026947251,307.9171971605875,318.4550916264498],[12.856013886941067,23.393908352803447,33.93180281866582,44.4696972845282,55.007591750390574,65.54548621625294,76.08338068211532,86.6212751479777,97.15916961384006,107.69706407970244,118.23495854556482,128.7728530114272,139.3107474772896,149.84864194315196,160.38653640901433,170.92443087487672,181.46232534073908,192.00021980660145,202.53811427246384,213.0760087383262,223.6139032041886,234.15179767005097,244.68969213591333,255.22758660177573,265.76548106763806,276.30337553350046,286.8412699993628,297.3791644652252,307.9170589310876,318.4549533969499],[12.855875657441207,23.393770123303586,33.93166458916596,44.46955905502834,55.007453520890714,65.54534798675309,76.08324245261547,86.62113691847784,97.15903138434021,107.69692585020259,118.23482031606497,128.77271478192733,139.31060924778973,149.8485037136521,160.38639817951446,170.92429264537685,181.46218711123922,192.00008157710158,202.53797604296398,213.07587050882634,223.61376497468873,234.1516594405511,244.68955390641347,255.22744837227586,265.7653428381382,276.3032373040006,286.84113176986295,297.37902623572535,307.91692070158774,318.4548151674501],[12.855737427941346,23.393631893803725,33.9315263596661,44.46942082552848,55.00731529139085,65.54520975725322,76.0831042231156,86.62099868897798,97.15889315484034,107.69678762070272,118.2346820865651,128.77257655242747,139.31047101828986,149.84836548415223,160.3862599500146,170.92415441587698,181.46204888173935,191.99994334760171,202.5378378134641,213.07573227932647,223.61362674518887,234.15152121105123,244.6894156769136,255.227310142776,265.7652046086384,276.3030990745008,286.8409935403631,297.3788880062255,307.9167824720879,318.45467693795024],[12.855599198441487,23.393493664303865,33.93138813016624,44.46928259602862,55.00717706189099,65.54507152775336,76.08296599361574,86.62086045947812,97.15875492534049,107.69664939120287,118.23454385706525,128.7724383229276,139.31033278879,149.84822725465236,160.38612172051472,170.92401618637712,181.46191065223948,191.99980511810185,202.53769958396424,213.0755940498266,223.613488515689,234.15138298155136,244.68927744741373,255.22717191327612,265.7650663791385,276.3029608450009,286.8408553108632,297.3787497767256,307.916644242588,318.45453870845034],[12.855460968941626,23.393355434804004,33.93124990066638,44.46914436652876,55.00703883239113,65.5449332982535,76.08282776411588,86.62072222997826,97.15861669584062,107.696511161703,118.23440562756538,128.77230009342776,139.31019455929015,149.84808902515252,160.38598349101488,170.92387795687728,181.46177242273964,191.999666888602,202.5375613544644,213.07545582032677,223.61335028618916,234.15124475205153,244.6891392179139,255.22703368377628,265.76492814963865,276.30282261550104,286.8407170813634,297.3786115472258,307.91650601308817,318.4544004789505],[12.855322739441766,23.393217205304143,33.93111167116652,44.4690061370289,55.00690060289127,65.54479506875364,76.08268953461602,86.6205840004784,97.15847846634077,107.69637293220315,118.23426739806553,128.7721618639279,139.31005632979029,149.84795079565265,160.38584526151502,170.9237397273774,181.46163419323977,191.99952865910214,202.53742312496453,213.0753175908269,223.6132120566893,234.15110652255166,244.68900098841402,255.22689545427642,265.7647899201388,276.3026843860012,286.84057885186354,297.37847331772593,307.9163677835883,318.45426224945066],[12.855184509941905,23.393078975804283,33.93097344166666,44.46886790752904,55.00676237339141,65.54465683925379,76.08255130511617,86.62044577097855,97.15834023684091,107.6962347027033,118.23412916856567,128.77202363442802,139.30991810029042,149.84781256615278,160.38570703201515,170.92360149787754,181.4614959637399,191.99939042960227,202.53728489546467,213.07517936132703,223.61307382718942,234.1509682930518,244.68886275891415,255.22675722477655,265.7646516906389,276.3025461565013,286.84044062236364,297.37833508822604,307.91622955408843,318.45412401995077],[12.855046280442044,23.392940746304422,33.9308352121668,44.46872967802918,55.00662414389155,65.54451860975392,76.0824130756163,86.62030754147868,97.15820200734105,107.69609647320343,118.2339909390658,128.77188540492818,139.30977987079058,149.84767433665294,160.3855688025153,170.9234632683777,181.46135773424007,191.99925220010243,202.53714666596483,213.0750411318272,223.61293559768959,234.15083006355195,244.68872452941432,255.2266189952767,265.7645134611391,276.30240792700147,286.8403023928638,297.3781968587262,307.9160913245886,318.45398579045093]],\"type\":\"surface\"}],                        {\"template\":{\"data\":{\"histogram2dcontour\":[{\"type\":\"histogram2dcontour\",\"colorbar\":{\"outlinewidth\":0,\"ticks\":\"\"},\"colorscale\":[[0.0,\"#0d0887\"],[0.1111111111111111,\"#46039f\"],[0.2222222222222222,\"#7201a8\"],[0.3333333333333333,\"#9c179e\"],[0.4444444444444444,\"#bd3786\"],[0.5555555555555556,\"#d8576b\"],[0.6666666666666666,\"#ed7953\"],[0.7777777777777778,\"#fb9f3a\"],[0.8888888888888888,\"#fdca26\"],[1.0,\"#f0f921\"]]}],\"choropleth\":[{\"type\":\"choropleth\",\"colorbar\":{\"outlinewidth\":0,\"ticks\":\"\"}}],\"histogram2d\":[{\"type\":\"histogram2d\",\"colorbar\":{\"outlinewidth\":0,\"ticks\":\"\"},\"colorscale\":[[0.0,\"#0d0887\"],[0.1111111111111111,\"#46039f\"],[0.2222222222222222,\"#7201a8\"],[0.3333333333333333,\"#9c179e\"],[0.4444444444444444,\"#bd3786\"],[0.5555555555555556,\"#d8576b\"],[0.6666666666666666,\"#ed7953\"],[0.7777777777777778,\"#fb9f3a\"],[0.8888888888888888,\"#fdca26\"],[1.0,\"#f0f921\"]]}],\"heatmap\":[{\"type\":\"heatmap\",\"colorbar\":{\"outlinewidth\":0,\"ticks\":\"\"},\"colorscale\":[[0.0,\"#0d0887\"],[0.1111111111111111,\"#46039f\"],[0.2222222222222222,\"#7201a8\"],[0.3333333333333333,\"#9c179e\"],[0.4444444444444444,\"#bd3786\"],[0.5555555555555556,\"#d8576b\"],[0.6666666666666666,\"#ed7953\"],[0.7777777777777778,\"#fb9f3a\"],[0.8888888888888888,\"#fdca26\"],[1.0,\"#f0f921\"]]}],\"heatmapgl\":[{\"type\":\"heatmapgl\",\"colorbar\":{\"outlinewidth\":0,\"ticks\":\"\"},\"colorscale\":[[0.0,\"#0d0887\"],[0.1111111111111111,\"#46039f\"],[0.2222222222222222,\"#7201a8\"],[0.3333333333333333,\"#9c179e\"],[0.4444444444444444,\"#bd3786\"],[0.5555555555555556,\"#d8576b\"],[0.6666666666666666,\"#ed7953\"],[0.7777777777777778,\"#fb9f3a\"],[0.8888888888888888,\"#fdca26\"],[1.0,\"#f0f921\"]]}],\"contourcarpet\":[{\"type\":\"contourcarpet\",\"colorbar\":{\"outlinewidth\":0,\"ticks\":\"\"}}],\"contour\":[{\"type\":\"contour\",\"colorbar\":{\"outlinewidth\":0,\"ticks\":\"\"},\"colorscale\":[[0.0,\"#0d0887\"],[0.1111111111111111,\"#46039f\"],[0.2222222222222222,\"#7201a8\"],[0.3333333333333333,\"#9c179e\"],[0.4444444444444444,\"#bd3786\"],[0.5555555555555556,\"#d8576b\"],[0.6666666666666666,\"#ed7953\"],[0.7777777777777778,\"#fb9f3a\"],[0.8888888888888888,\"#fdca26\"],[1.0,\"#f0f921\"]]}],\"surface\":[{\"type\":\"surface\",\"colorbar\":{\"outlinewidth\":0,\"ticks\":\"\"},\"colorscale\":[[0.0,\"#0d0887\"],[0.1111111111111111,\"#46039f\"],[0.2222222222222222,\"#7201a8\"],[0.3333333333333333,\"#9c179e\"],[0.4444444444444444,\"#bd3786\"],[0.5555555555555556,\"#d8576b\"],[0.6666666666666666,\"#ed7953\"],[0.7777777777777778,\"#fb9f3a\"],[0.8888888888888888,\"#fdca26\"],[1.0,\"#f0f921\"]]}],\"mesh3d\":[{\"type\":\"mesh3d\",\"colorbar\":{\"outlinewidth\":0,\"ticks\":\"\"}}],\"scatter\":[{\"fillpattern\":{\"fillmode\":\"overlay\",\"size\":10,\"solidity\":0.2},\"type\":\"scatter\"}],\"parcoords\":[{\"type\":\"parcoords\",\"line\":{\"colorbar\":{\"outlinewidth\":0,\"ticks\":\"\"}}}],\"scatterpolargl\":[{\"type\":\"scatterpolargl\",\"marker\":{\"colorbar\":{\"outlinewidth\":0,\"ticks\":\"\"}}}],\"bar\":[{\"error_x\":{\"color\":\"#2a3f5f\"},\"error_y\":{\"color\":\"#2a3f5f\"},\"marker\":{\"line\":{\"color\":\"#E5ECF6\",\"width\":0.5},\"pattern\":{\"fillmode\":\"overlay\",\"size\":10,\"solidity\":0.2}},\"type\":\"bar\"}],\"scattergeo\":[{\"type\":\"scattergeo\",\"marker\":{\"colorbar\":{\"outlinewidth\":0,\"ticks\":\"\"}}}],\"scatterpolar\":[{\"type\":\"scatterpolar\",\"marker\":{\"colorbar\":{\"outlinewidth\":0,\"ticks\":\"\"}}}],\"histogram\":[{\"marker\":{\"pattern\":{\"fillmode\":\"overlay\",\"size\":10,\"solidity\":0.2}},\"type\":\"histogram\"}],\"scattergl\":[{\"type\":\"scattergl\",\"marker\":{\"colorbar\":{\"outlinewidth\":0,\"ticks\":\"\"}}}],\"scatter3d\":[{\"type\":\"scatter3d\",\"line\":{\"colorbar\":{\"outlinewidth\":0,\"ticks\":\"\"}},\"marker\":{\"colorbar\":{\"outlinewidth\":0,\"ticks\":\"\"}}}],\"scattermapbox\":[{\"type\":\"scattermapbox\",\"marker\":{\"colorbar\":{\"outlinewidth\":0,\"ticks\":\"\"}}}],\"scatterternary\":[{\"type\":\"scatterternary\",\"marker\":{\"colorbar\":{\"outlinewidth\":0,\"ticks\":\"\"}}}],\"scattercarpet\":[{\"type\":\"scattercarpet\",\"marker\":{\"colorbar\":{\"outlinewidth\":0,\"ticks\":\"\"}}}],\"carpet\":[{\"aaxis\":{\"endlinecolor\":\"#2a3f5f\",\"gridcolor\":\"white\",\"linecolor\":\"white\",\"minorgridcolor\":\"white\",\"startlinecolor\":\"#2a3f5f\"},\"baxis\":{\"endlinecolor\":\"#2a3f5f\",\"gridcolor\":\"white\",\"linecolor\":\"white\",\"minorgridcolor\":\"white\",\"startlinecolor\":\"#2a3f5f\"},\"type\":\"carpet\"}],\"table\":[{\"cells\":{\"fill\":{\"color\":\"#EBF0F8\"},\"line\":{\"color\":\"white\"}},\"header\":{\"fill\":{\"color\":\"#C8D4E3\"},\"line\":{\"color\":\"white\"}},\"type\":\"table\"}],\"barpolar\":[{\"marker\":{\"line\":{\"color\":\"#E5ECF6\",\"width\":0.5},\"pattern\":{\"fillmode\":\"overlay\",\"size\":10,\"solidity\":0.2}},\"type\":\"barpolar\"}],\"pie\":[{\"automargin\":true,\"type\":\"pie\"}]},\"layout\":{\"autotypenumbers\":\"strict\",\"colorway\":[\"#636efa\",\"#EF553B\",\"#00cc96\",\"#ab63fa\",\"#FFA15A\",\"#19d3f3\",\"#FF6692\",\"#B6E880\",\"#FF97FF\",\"#FECB52\"],\"font\":{\"color\":\"#2a3f5f\"},\"hovermode\":\"closest\",\"hoverlabel\":{\"align\":\"left\"},\"paper_bgcolor\":\"white\",\"plot_bgcolor\":\"#E5ECF6\",\"polar\":{\"bgcolor\":\"#E5ECF6\",\"angularaxis\":{\"gridcolor\":\"white\",\"linecolor\":\"white\",\"ticks\":\"\"},\"radialaxis\":{\"gridcolor\":\"white\",\"linecolor\":\"white\",\"ticks\":\"\"}},\"ternary\":{\"bgcolor\":\"#E5ECF6\",\"aaxis\":{\"gridcolor\":\"white\",\"linecolor\":\"white\",\"ticks\":\"\"},\"baxis\":{\"gridcolor\":\"white\",\"linecolor\":\"white\",\"ticks\":\"\"},\"caxis\":{\"gridcolor\":\"white\",\"linecolor\":\"white\",\"ticks\":\"\"}},\"coloraxis\":{\"colorbar\":{\"outlinewidth\":0,\"ticks\":\"\"}},\"colorscale\":{\"sequential\":[[0.0,\"#0d0887\"],[0.1111111111111111,\"#46039f\"],[0.2222222222222222,\"#7201a8\"],[0.3333333333333333,\"#9c179e\"],[0.4444444444444444,\"#bd3786\"],[0.5555555555555556,\"#d8576b\"],[0.6666666666666666,\"#ed7953\"],[0.7777777777777778,\"#fb9f3a\"],[0.8888888888888888,\"#fdca26\"],[1.0,\"#f0f921\"]],\"sequentialminus\":[[0.0,\"#0d0887\"],[0.1111111111111111,\"#46039f\"],[0.2222222222222222,\"#7201a8\"],[0.3333333333333333,\"#9c179e\"],[0.4444444444444444,\"#bd3786\"],[0.5555555555555556,\"#d8576b\"],[0.6666666666666666,\"#ed7953\"],[0.7777777777777778,\"#fb9f3a\"],[0.8888888888888888,\"#fdca26\"],[1.0,\"#f0f921\"]],\"diverging\":[[0,\"#8e0152\"],[0.1,\"#c51b7d\"],[0.2,\"#de77ae\"],[0.3,\"#f1b6da\"],[0.4,\"#fde0ef\"],[0.5,\"#f7f7f7\"],[0.6,\"#e6f5d0\"],[0.7,\"#b8e186\"],[0.8,\"#7fbc41\"],[0.9,\"#4d9221\"],[1,\"#276419\"]]},\"xaxis\":{\"gridcolor\":\"white\",\"linecolor\":\"white\",\"ticks\":\"\",\"title\":{\"standoff\":15},\"zerolinecolor\":\"white\",\"automargin\":true,\"zerolinewidth\":2},\"yaxis\":{\"gridcolor\":\"white\",\"linecolor\":\"white\",\"ticks\":\"\",\"title\":{\"standoff\":15},\"zerolinecolor\":\"white\",\"automargin\":true,\"zerolinewidth\":2},\"scene\":{\"xaxis\":{\"backgroundcolor\":\"#E5ECF6\",\"gridcolor\":\"white\",\"linecolor\":\"white\",\"showbackground\":true,\"ticks\":\"\",\"zerolinecolor\":\"white\",\"gridwidth\":2},\"yaxis\":{\"backgroundcolor\":\"#E5ECF6\",\"gridcolor\":\"white\",\"linecolor\":\"white\",\"showbackground\":true,\"ticks\":\"\",\"zerolinecolor\":\"white\",\"gridwidth\":2},\"zaxis\":{\"backgroundcolor\":\"#E5ECF6\",\"gridcolor\":\"white\",\"linecolor\":\"white\",\"showbackground\":true,\"ticks\":\"\",\"zerolinecolor\":\"white\",\"gridwidth\":2}},\"shapedefaults\":{\"line\":{\"color\":\"#2a3f5f\"}},\"annotationdefaults\":{\"arrowcolor\":\"#2a3f5f\",\"arrowhead\":0,\"arrowwidth\":1},\"geo\":{\"bgcolor\":\"white\",\"landcolor\":\"#E5ECF6\",\"subunitcolor\":\"white\",\"showland\":true,\"showlakes\":true,\"lakecolor\":\"white\"},\"title\":{\"x\":0.05},\"mapbox\":{\"style\":\"light\"}}}},                        {\"responsive\": true}                    ).then(function(){\n",
              "                            \n",
              "var gd = document.getElementById('4fc91feb-ebd2-4f22-a386-dd49cc7263b4');\n",
              "var x = new MutationObserver(function (mutations, observer) {{\n",
              "        var display = window.getComputedStyle(gd).display;\n",
              "        if (!display || display === 'none') {{\n",
              "            console.log([gd, 'removed!']);\n",
              "            Plotly.purge(gd);\n",
              "            observer.disconnect();\n",
              "        }}\n",
              "}});\n",
              "\n",
              "// Listen for the removal of the full notebook cells\n",
              "var notebookContainer = gd.closest('#notebook-container');\n",
              "if (notebookContainer) {{\n",
              "    x.observe(notebookContainer, {childList: true});\n",
              "}}\n",
              "\n",
              "// Listen for the clearing of the current output cell\n",
              "var outputEl = gd.closest('.output');\n",
              "if (outputEl) {{\n",
              "    x.observe(outputEl, {childList: true});\n",
              "}}\n",
              "\n",
              "                        })                };                            </script>        </div>\n",
              "</body>\n",
              "</html>"
            ]
          },
          "metadata": {}
        }
      ],
      "source": [
        "import plotly.graph_objects as go\n",
        "import numpy as np\n",
        "import plotly.express as px\n",
        "\n",
        "margin =0\n",
        "# fig.update_layout(margin=dict(l=0, r=0, b=0, t=0))\n",
        "x_min, x_max = x1.min() - margin, x1.max() + margin\n",
        "y_min, y_max = x2.min() - margin, x2.max() + margin\n",
        "xrange = np.arange(x_min, x_max, 100)\n",
        "yrange = np.arange(y_min, y_max, 2)\n",
        "xx, yy = np.meshgrid(xrange, yrange)\n",
        "print(xx.shape,yy.shape)\n",
        "\n",
        "# Run model\n",
        "y_predict = hypo(xx,yy, a, b,c)\n",
        "pred = y_predict\n",
        "pred = pred.reshape(xx.shape)\n",
        "\n",
        "# fig = px.scatter_3d(df, x=x1, y=x2, z=y2)\n",
        "fig = go.Figure(data=[go.Scatter3d(\n",
        "    x=x1,\n",
        "    y=x2,\n",
        "    z=y2,\n",
        "    mode='markers',\n",
        "    marker=dict(\n",
        "        size=15,\n",
        "        color=y2,                # set color to an array/list of desired values\n",
        "        colorscale='Viridis',   # choose a colorscale\n",
        "        opacity=0.6\n",
        "    )\n",
        ")])\n",
        "fig.update_traces(marker=dict(size=5))\n",
        "fig.add_traces(go.Surface(x=xrange, y=yrange, z=pred, name='pred_surface'))\n",
        "fig.show()"
      ]
    }
  ],
  "metadata": {
    "kernelspec": {
      "display_name": "Python 3 (ipykernel)",
      "language": "python",
      "name": "python3"
    },
    "language_info": {
      "codemirror_mode": {
        "name": "ipython",
        "version": 3
      },
      "file_extension": ".py",
      "mimetype": "text/x-python",
      "name": "python",
      "nbconvert_exporter": "python",
      "pygments_lexer": "ipython3",
      "version": "3.11.2"
    },
    "colab": {
      "provenance": []
    }
  },
  "nbformat": 4,
  "nbformat_minor": 5
}